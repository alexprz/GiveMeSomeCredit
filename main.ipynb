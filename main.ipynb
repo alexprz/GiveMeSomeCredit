{
 "cells": [
  {
   "cell_type": "markdown",
   "metadata": {},
   "source": [
    "# Give Me Some Credit"
   ]
  },
  {
   "cell_type": "code",
   "execution_count": 142,
   "metadata": {},
   "outputs": [],
   "source": [
    "import pandas as pd\n",
    "import numpy as np\n",
    "import seaborn as sns\n",
    "from sklearn.model_selection import train_test_split, cross_validate\n",
    "from sklearn.ensemble import RandomForestClassifier, GradientBoostingClassifier, ExtraTreesClassifier, AdaBoostClassifier\n",
    "from sklearn.neural_network import MLPClassifier\n",
    "from sklearn.linear_model import LogisticRegression\n",
    "from sklearn.svm import LinearSVC\n",
    "from matplotlib import pyplot as plt\n",
    "from sklearn.decomposition import PCA\n",
    "from sklearn.preprocessing import StandardScaler, MinMaxScaler\n",
    "from sklearn.pipeline import Pipeline\n",
    "from sklearn.gaussian_process import GaussianProcessClassifier\n",
    "from sklearn.gaussian_process.kernels import RBF\n",
    "from sklearn.neighbors import KNeighborsClassifier\n",
    "from sklearn.tree import DecisionTreeClassifier\n",
    "from sklearn.naive_bayes import GaussianNB\n",
    "from sklearn.discriminant_analysis import QuadraticDiscriminantAnalysis\n",
    "from sklearn.model_selection import StratifiedKFold\n",
    "%matplotlib inline"
   ]
  },
  {
   "cell_type": "code",
   "execution_count": 20,
   "metadata": {},
   "outputs": [],
   "source": [
    "random_state = 1"
   ]
  },
  {
   "cell_type": "markdown",
   "metadata": {},
   "source": [
    "# Charger les données"
   ]
  },
  {
   "cell_type": "code",
   "execution_count": 21,
   "metadata": {},
   "outputs": [],
   "source": [
    "data = pd.read_csv('data/cs-training.csv').drop('Unnamed: 0', axis = 1)"
   ]
  },
  {
   "cell_type": "code",
   "execution_count": 22,
   "metadata": {},
   "outputs": [],
   "source": [
    "X = data.drop('SeriousDlqin2yrs', axis=1)\n",
    "y = data.SeriousDlqin2yrs"
   ]
  },
  {
   "cell_type": "markdown",
   "metadata": {},
   "source": [
    "On fait un premier nettoyage des données qui consiste à remplacer les blancs par des médianes."
   ]
  },
  {
   "cell_type": "code",
   "execution_count": null,
   "metadata": {},
   "outputs": [],
   "source": [
    "feature_names = np.array(X.columns)\n",
    "X.loc[X.MonthlyIncome.isnull(), 'MonthlyIncome'] = X.MonthlyIncome.median()\n",
    "X.loc[X.NumberOfDependents.isnull(), 'NumberOfDependents'] = X.NumberOfDependents.median()"
   ]
  },
  {
   "cell_type": "code",
   "execution_count": 23,
   "metadata": {},
   "outputs": [
    {
     "data": {
      "text/html": [
       "<div>\n",
       "<style scoped>\n",
       "    .dataframe tbody tr th:only-of-type {\n",
       "        vertical-align: middle;\n",
       "    }\n",
       "\n",
       "    .dataframe tbody tr th {\n",
       "        vertical-align: top;\n",
       "    }\n",
       "\n",
       "    .dataframe thead th {\n",
       "        text-align: right;\n",
       "    }\n",
       "</style>\n",
       "<table border=\"1\" class=\"dataframe\">\n",
       "  <thead>\n",
       "    <tr style=\"text-align: right;\">\n",
       "      <th></th>\n",
       "      <th>RevolvingUtilizationOfUnsecuredLines</th>\n",
       "      <th>age</th>\n",
       "      <th>NumberOfTime30-59DaysPastDueNotWorse</th>\n",
       "      <th>DebtRatio</th>\n",
       "      <th>MonthlyIncome</th>\n",
       "      <th>NumberOfOpenCreditLinesAndLoans</th>\n",
       "      <th>NumberOfTimes90DaysLate</th>\n",
       "      <th>NumberRealEstateLoansOrLines</th>\n",
       "      <th>NumberOfTime60-89DaysPastDueNotWorse</th>\n",
       "      <th>NumberOfDependents</th>\n",
       "    </tr>\n",
       "  </thead>\n",
       "  <tbody>\n",
       "    <tr>\n",
       "      <th>count</th>\n",
       "      <td>150000.000000</td>\n",
       "      <td>150000.000000</td>\n",
       "      <td>150000.000000</td>\n",
       "      <td>150000.000000</td>\n",
       "      <td>1.500000e+05</td>\n",
       "      <td>150000.000000</td>\n",
       "      <td>150000.000000</td>\n",
       "      <td>150000.000000</td>\n",
       "      <td>150000.000000</td>\n",
       "      <td>150000.000000</td>\n",
       "    </tr>\n",
       "    <tr>\n",
       "      <th>mean</th>\n",
       "      <td>6.048438</td>\n",
       "      <td>52.295207</td>\n",
       "      <td>0.421033</td>\n",
       "      <td>353.005076</td>\n",
       "      <td>6.418455e+03</td>\n",
       "      <td>8.452760</td>\n",
       "      <td>0.265973</td>\n",
       "      <td>1.018240</td>\n",
       "      <td>0.240387</td>\n",
       "      <td>0.737413</td>\n",
       "    </tr>\n",
       "    <tr>\n",
       "      <th>std</th>\n",
       "      <td>249.755371</td>\n",
       "      <td>14.771866</td>\n",
       "      <td>4.192781</td>\n",
       "      <td>2037.818523</td>\n",
       "      <td>1.289040e+04</td>\n",
       "      <td>5.145951</td>\n",
       "      <td>4.169304</td>\n",
       "      <td>1.129771</td>\n",
       "      <td>4.155179</td>\n",
       "      <td>1.107021</td>\n",
       "    </tr>\n",
       "    <tr>\n",
       "      <th>min</th>\n",
       "      <td>0.000000</td>\n",
       "      <td>0.000000</td>\n",
       "      <td>0.000000</td>\n",
       "      <td>0.000000</td>\n",
       "      <td>0.000000e+00</td>\n",
       "      <td>0.000000</td>\n",
       "      <td>0.000000</td>\n",
       "      <td>0.000000</td>\n",
       "      <td>0.000000</td>\n",
       "      <td>0.000000</td>\n",
       "    </tr>\n",
       "    <tr>\n",
       "      <th>25%</th>\n",
       "      <td>0.029867</td>\n",
       "      <td>41.000000</td>\n",
       "      <td>0.000000</td>\n",
       "      <td>0.175074</td>\n",
       "      <td>3.903000e+03</td>\n",
       "      <td>5.000000</td>\n",
       "      <td>0.000000</td>\n",
       "      <td>0.000000</td>\n",
       "      <td>0.000000</td>\n",
       "      <td>0.000000</td>\n",
       "    </tr>\n",
       "    <tr>\n",
       "      <th>50%</th>\n",
       "      <td>0.154181</td>\n",
       "      <td>52.000000</td>\n",
       "      <td>0.000000</td>\n",
       "      <td>0.366508</td>\n",
       "      <td>5.400000e+03</td>\n",
       "      <td>8.000000</td>\n",
       "      <td>0.000000</td>\n",
       "      <td>1.000000</td>\n",
       "      <td>0.000000</td>\n",
       "      <td>0.000000</td>\n",
       "    </tr>\n",
       "    <tr>\n",
       "      <th>75%</th>\n",
       "      <td>0.559046</td>\n",
       "      <td>63.000000</td>\n",
       "      <td>0.000000</td>\n",
       "      <td>0.868254</td>\n",
       "      <td>7.400000e+03</td>\n",
       "      <td>11.000000</td>\n",
       "      <td>0.000000</td>\n",
       "      <td>2.000000</td>\n",
       "      <td>0.000000</td>\n",
       "      <td>1.000000</td>\n",
       "    </tr>\n",
       "    <tr>\n",
       "      <th>max</th>\n",
       "      <td>50708.000000</td>\n",
       "      <td>109.000000</td>\n",
       "      <td>98.000000</td>\n",
       "      <td>329664.000000</td>\n",
       "      <td>3.008750e+06</td>\n",
       "      <td>58.000000</td>\n",
       "      <td>98.000000</td>\n",
       "      <td>54.000000</td>\n",
       "      <td>98.000000</td>\n",
       "      <td>20.000000</td>\n",
       "    </tr>\n",
       "  </tbody>\n",
       "</table>\n",
       "</div>"
      ],
      "text/plain": [
       "       RevolvingUtilizationOfUnsecuredLines            age  \\\n",
       "count                         150000.000000  150000.000000   \n",
       "mean                               6.048438      52.295207   \n",
       "std                              249.755371      14.771866   \n",
       "min                                0.000000       0.000000   \n",
       "25%                                0.029867      41.000000   \n",
       "50%                                0.154181      52.000000   \n",
       "75%                                0.559046      63.000000   \n",
       "max                            50708.000000     109.000000   \n",
       "\n",
       "       NumberOfTime30-59DaysPastDueNotWorse      DebtRatio  MonthlyIncome  \\\n",
       "count                         150000.000000  150000.000000   1.500000e+05   \n",
       "mean                               0.421033     353.005076   6.418455e+03   \n",
       "std                                4.192781    2037.818523   1.289040e+04   \n",
       "min                                0.000000       0.000000   0.000000e+00   \n",
       "25%                                0.000000       0.175074   3.903000e+03   \n",
       "50%                                0.000000       0.366508   5.400000e+03   \n",
       "75%                                0.000000       0.868254   7.400000e+03   \n",
       "max                               98.000000  329664.000000   3.008750e+06   \n",
       "\n",
       "       NumberOfOpenCreditLinesAndLoans  NumberOfTimes90DaysLate  \\\n",
       "count                    150000.000000            150000.000000   \n",
       "mean                          8.452760                 0.265973   \n",
       "std                           5.145951                 4.169304   \n",
       "min                           0.000000                 0.000000   \n",
       "25%                           5.000000                 0.000000   \n",
       "50%                           8.000000                 0.000000   \n",
       "75%                          11.000000                 0.000000   \n",
       "max                          58.000000                98.000000   \n",
       "\n",
       "       NumberRealEstateLoansOrLines  NumberOfTime60-89DaysPastDueNotWorse  \\\n",
       "count                 150000.000000                         150000.000000   \n",
       "mean                       1.018240                              0.240387   \n",
       "std                        1.129771                              4.155179   \n",
       "min                        0.000000                              0.000000   \n",
       "25%                        0.000000                              0.000000   \n",
       "50%                        1.000000                              0.000000   \n",
       "75%                        2.000000                              0.000000   \n",
       "max                       54.000000                             98.000000   \n",
       "\n",
       "       NumberOfDependents  \n",
       "count       150000.000000  \n",
       "mean             0.737413  \n",
       "std              1.107021  \n",
       "min              0.000000  \n",
       "25%              0.000000  \n",
       "50%              0.000000  \n",
       "75%              1.000000  \n",
       "max             20.000000  "
      ]
     },
     "execution_count": 23,
     "metadata": {},
     "output_type": "execute_result"
    }
   ],
   "source": [
    "X.describe()"
   ]
  },
  {
   "cell_type": "markdown",
   "metadata": {},
   "source": [
    "# Essai de plusieurs modèles simples"
   ]
  },
  {
   "cell_type": "code",
   "execution_count": 33,
   "metadata": {},
   "outputs": [],
   "source": [
    "from sklearn.metrics import roc_curve, auc"
   ]
  },
  {
   "cell_type": "code",
   "execution_count": 34,
   "metadata": {},
   "outputs": [],
   "source": [
    "clfs = {\n",
    "    'RandomForestClassifier': RandomForestClassifier(n_estimators=10, random_state=random_state),\n",
    "    'LogisticRegression': LogisticRegression(solver='lbfgs', random_state=random_state),\n",
    "    'GradientBoostingClassifier': GradientBoostingClassifier(random_state=random_state),\n",
    "    'ExtraTreesClassifier': ExtraTreesClassifier(random_state=random_state),\n",
    "    'AdaBoostClassifier': AdaBoostClassifier(),\n",
    "    'KNeighborsClassifier': KNeighborsClassifier(3),\n",
    "    'DecisionTreeClassifier': DecisionTreeClassifier(max_depth=5),\n",
    "    'GaussianNB': GaussianNB()\n",
    "}"
   ]
  },
  {
   "cell_type": "code",
   "execution_count": 35,
   "metadata": {},
   "outputs": [],
   "source": [
    "def fit_and_score_clfs(clfs, X=X, y=y, test_size=0.9):\n",
    "    '''\n",
    "        Given a dict of classifiers, return a dict of scores obtained by fitting each classifier\n",
    "        on the set (X, y) with the given test_proportion\n",
    "\n",
    "        clfs: dict of classifiers\n",
    "                key: name of clf\n",
    "                value: clf object\n",
    "    '''\n",
    "    X_train, X_test, y_train, y_test = train_test_split(X, y, test_size=test_size, random_state=random_state)\n",
    "    scores = dict()\n",
    "    for name, clf in clfs.items():\n",
    "        clf.fit(X_train, y_train)\n",
    "        scores[name] = clf.score(X_test, y_test)\n",
    "\n",
    "    return scores"
   ]
  },
  {
   "cell_type": "code",
   "execution_count": 36,
   "metadata": {},
   "outputs": [],
   "source": [
    "# fit_and_score_clfs(clfs)"
   ]
  },
  {
   "cell_type": "code",
   "execution_count": 37,
   "metadata": {},
   "outputs": [],
   "source": [
    "def eval_model(mod, X, y, name=None, CVNFOLDS=7):\n",
    "    cv = StratifiedKFold(n_splits=CVNFOLDS)\n",
    "    mem = []\n",
    "    for i, (training, test) in enumerate(cv.split(X, y)):\n",
    "        fit = mod.fit(X.iloc[training], y.iloc[training])\n",
    "        prob = fit.predict_proba(X.iloc[test])\n",
    "        fpr, tpr, _ = roc_curve(y.iloc[test], prob[:, 1])\n",
    "        a = auc(fpr, tpr)\n",
    "        mem.append(a)\n",
    "        #print('ROC: %f' % a)\n",
    "        plt.plot(fpr, tpr)\n",
    "    plt.xlabel('False Positive Ratio')\n",
    "    plt.ylabel('True Positive Ratio')\n",
    "    plt.xlim([-0.05, 1.05])\n",
    "    plt.ylim([-0.05, 1.05])\n",
    "    plt.title(name)\n",
    "    plt.show()\n",
    "    print(\"Mean: %f\" % np.mean(mem))"
   ]
  },
  {
   "cell_type": "code",
   "execution_count": 38,
   "metadata": {},
   "outputs": [],
   "source": [
    "#for name, clf in clfs.items():\n",
    "    #eval_model(clf, X, y, name=name)\n"
   ]
  },
  {
   "cell_type": "markdown",
   "metadata": {},
   "source": [
    "# Visualisation des données"
   ]
  },
  {
   "cell_type": "code",
   "execution_count": 43,
   "metadata": {},
   "outputs": [],
   "source": [
    "def visualization():\n",
    "    # # B/M plot\n",
    "    plt.barh(['no problem', 'seriousProblemIn2Years'], [np.sum(y == 1), np.sum(y == 0)])\n",
    "    plt.xlabel('Nombre d\\'entrées')\n",
    "    plt.show()\n",
    "\n",
    "    # Violin plot\n",
    "    data_melt = data.melt(id_vars=['SeriousDlqin2yrs'])\n",
    "    sns.violinplot(x='variable', y='value', hue='SeriousDlqin2yrs',\n",
    "               split=True, inner=\"quart\",\n",
    "               scale='area',\n",
    "               data=data_melt)\n",
    "    sns.despine(left=True)\n",
    "    plt.xticks(rotation=90)\n",
    "    plt.xlabel('')\n",
    "    plt.show()\n",
    "\n",
    "    # Correlation\n",
    "    # Compute the correlation matrix\n",
    "    corr = X.corr()\n",
    "\n",
    "    # # Generate a mask for the upper triangle\n",
    "    mask = np.zeros_like(corr, dtype=np.bool)\n",
    "    mask[np.triu_indices_from(mask)] = True\n",
    "\n",
    "    # # Draw the heatmap with the mask and correct aspect ratio\n",
    "    f, ax = plt.subplots(figsize=(12, 10))\n",
    "    sns.heatmap(corr, mask=mask, annot=True, fmt=\".1f\", linewidths=.7)\n",
    "    plt.show()"
   ]
  },
  {
   "cell_type": "code",
   "execution_count": 44,
   "metadata": {},
   "outputs": [
    {
     "data": {
      "image/png": "[encoded data removed]",
      "text/plain": [
       "<Figure size 432x288 with 1 Axes>"
      ]
     },
     "metadata": {
      "needs_background": "light"
     },
     "output_type": "display_data"
    },
    {
     "data": {
      "image/png": "[encoded data removed]",
      "text/plain": [
       "<Figure size 432x288 with 1 Axes>"
      ]
     },
     "metadata": {
      "needs_background": "light"
     },
     "output_type": "display_data"
    },
    {
     "data": {
      "image/png": "[encoded data removed]",
      "text/plain": [
       "<Figure size 864x720 with 2 Axes>"
      ]
     },
     "metadata": {
      "needs_background": "light"
     },
     "output_type": "display_data"
    }
   ],
   "source": [
    "visualization()"
   ]
  },
  {
   "cell_type": "markdown",
   "metadata": {},
   "source": [
    "On remarque que les features sont très décorrélées. Ceci implique qu'une PCA a peu de chance de donner des résultats de qualité équivalente pour un temps de training moins long. Pour s'en convaincre, traçons le diagramme d'éboulis :"
   ]
  },
  {
   "cell_type": "code",
   "execution_count": 163,
   "metadata": {},
   "outputs": [],
   "source": [
    "def find_optimal_dimension(data, explained_proportion, show=False):\n",
    "    '''\n",
    "        Return how many dimensions to keep to explain a given proportion of the data.\n",
    "        Informative purpose only since this feature is already implemented in sklearn.\n",
    "        Use PCA(n_components=explained_proportion) instead.\n",
    "\n",
    "        data : array of shape (n_samples, n_features)\n",
    "        explained_proportion : float in [0, 1]\n",
    "    '''\n",
    "    p = data.shape[1] - 1\n",
    "    pca = PCA(data.shape[1])\n",
    "\n",
    "    # Important : Normalize data to have homogenous features\n",
    "    pipeline = Pipeline([('scaling', StandardScaler()), ('pca', pca)])\n",
    "    data = pipeline.fit_transform(data)\n",
    "\n",
    "    # Determine how many components to keep\n",
    "    explained_ratio = np.cumsum(pca.explained_variance_ratio_)\n",
    "    for k in range(len(explained_ratio)):\n",
    "        if explained_ratio[k] >= explained_proportion:\n",
    "            p=k+1\n",
    "            break\n",
    "    print('Keeping {} components to explain {}% of the variance'.format(p, 100*explained_proportion))\n",
    "\n",
    "    if show:\n",
    "        eigen_values = pca.explained_variance_\n",
    "        plt.plot(range(len(eigen_values)), eigen_values)\n",
    "        plt.axvline(p, c='orange')\n",
    "        plt.xlabel('Eigenvalue index')\n",
    "        plt.ylabel('Eigenvalue')\n",
    "        plt.title('Keeping {} components to explain {}% of the variance'.format(p, 100*explained_proportion))\n",
    "        plt.show()        \n",
    "\n",
    "    return p"
   ]
  },
  {
   "cell_type": "code",
   "execution_count": 165,
   "metadata": {},
   "outputs": [
    {
     "name": "stdout",
     "output_type": "stream",
     "text": [
      "Keeping 10 components to explain 95.0% of the variance\n"
     ]
    },
    {
     "data": {
      "image/png": "[encoded data removed]",
      "text/plain": [
       "<Figure size 432x288 with 1 Axes>"
      ]
     },
     "metadata": {
      "needs_background": "light"
     },
     "output_type": "display_data"
    },
    {
     "data": {
      "text/plain": [
       "10"
      ]
     },
     "execution_count": 165,
     "metadata": {},
     "output_type": "execute_result"
    }
   ],
   "source": [
    "find_optimal_dimension(data, .95, show=True)"
   ]
  },
  {
   "cell_type": "markdown",
   "metadata": {},
   "source": [
    "# Nettoyage des données"
   ]
  },
  {
   "cell_type": "code",
   "execution_count": 49,
   "metadata": {},
   "outputs": [],
   "source": [
    "from collections import Counter"
   ]
  },
  {
   "cell_type": "markdown",
   "metadata": {},
   "source": [
    "On reprend un jeu de données propre :"
   ]
  },
  {
   "cell_type": "code",
   "execution_count": 97,
   "metadata": {},
   "outputs": [],
   "source": [
    "data = pd.read_csv('data/cs-training.csv').drop('Unnamed: 0', axis = 1)"
   ]
  },
  {
   "cell_type": "markdown",
   "metadata": {},
   "source": [
    "### Age"
   ]
  },
  {
   "cell_type": "code",
   "execution_count": 98,
   "metadata": {},
   "outputs": [
    {
     "data": {
      "text/plain": [
       "<matplotlib.axes._subplots.AxesSubplot at 0x11ca92908>"
      ]
     },
     "execution_count": 98,
     "metadata": {},
     "output_type": "execute_result"
    },
    {
     "data": {
      "image/png": "[encoded data removed]",
      "text/plain": [
       "<Figure size 432x288 with 1 Axes>"
      ]
     },
     "metadata": {
      "needs_background": "light"
     },
     "output_type": "display_data"
    }
   ],
   "source": [
    "data.age.hist()"
   ]
  },
  {
   "cell_type": "code",
   "execution_count": 99,
   "metadata": {},
   "outputs": [
    {
     "data": {
      "text/plain": [
       "Counter({27: 1338,\n",
       "         25: 953,\n",
       "         24: 816,\n",
       "         28: 1560,\n",
       "         26: 1193,\n",
       "         29: 1702,\n",
       "         23: 641,\n",
       "         22: 434,\n",
       "         21: 183,\n",
       "         0: 1})"
      ]
     },
     "execution_count": 99,
     "metadata": {},
     "output_type": "execute_result"
    }
   ],
   "source": [
    "Counter(data[data.age<30].age)"
   ]
  },
  {
   "cell_type": "markdown",
   "metadata": {},
   "source": [
    "Une personne est agée de 0 an, c'est probablement une erreur. On le remplace par la médiane."
   ]
  },
  {
   "cell_type": "code",
   "execution_count": 100,
   "metadata": {},
   "outputs": [],
   "source": [
    "data.loc[data.age < 21, 'age'] = data.age.median()"
   ]
  },
  {
   "cell_type": "code",
   "execution_count": 101,
   "metadata": {},
   "outputs": [
    {
     "data": {
      "text/plain": [
       "Counter({101.0: 3, 103.0: 3, 102.0: 3, 107.0: 1, 105.0: 1, 109.0: 2})"
      ]
     },
     "execution_count": 101,
     "metadata": {},
     "output_type": "execute_result"
    }
   ],
   "source": [
    "Counter(data[data.age>100].age)"
   ]
  },
  {
   "cell_type": "markdown",
   "metadata": {},
   "source": [
    "### NumberOfTime30-59DaysPastDueNotWorse"
   ]
  },
  {
   "cell_type": "code",
   "execution_count": 102,
   "metadata": {},
   "outputs": [
    {
     "data": {
      "text/plain": [
       "<matplotlib.axes._subplots.AxesSubplot at 0x11f4369b0>"
      ]
     },
     "execution_count": 102,
     "metadata": {},
     "output_type": "execute_result"
    },
    {
     "data": {
      "image/png": "[encoded data removed]",
      "text/plain": [
       "<Figure size 432x288 with 1 Axes>"
      ]
     },
     "metadata": {
      "needs_background": "light"
     },
     "output_type": "display_data"
    }
   ],
   "source": [
    "data[\"NumberOfTime30-59DaysPastDueNotWorse\"].hist()"
   ]
  },
  {
   "cell_type": "code",
   "execution_count": 103,
   "metadata": {},
   "outputs": [
    {
     "data": {
      "text/plain": [
       "Counter({2: 4598,\n",
       "         0: 126018,\n",
       "         1: 16033,\n",
       "         3: 1754,\n",
       "         4: 747,\n",
       "         5: 342,\n",
       "         7: 54,\n",
       "         10: 4,\n",
       "         6: 140,\n",
       "         98: 264,\n",
       "         12: 2,\n",
       "         8: 25,\n",
       "         9: 12,\n",
       "         96: 5,\n",
       "         13: 1,\n",
       "         11: 1})"
      ]
     },
     "execution_count": 103,
     "metadata": {},
     "output_type": "execute_result"
    }
   ],
   "source": [
    "Counter(data[\"NumberOfTime30-59DaysPastDueNotWorse\"])"
   ]
  },
  {
   "cell_type": "markdown",
   "metadata": {},
   "source": [
    "On suppose que les valeurs 98 et 96 sont des erreurs."
   ]
  },
  {
   "cell_type": "code",
   "execution_count": 104,
   "metadata": {},
   "outputs": [],
   "source": [
    "data.loc[\n",
    "    data[\"NumberOfTime30-59DaysPastDueNotWorse\"] > 20,\n",
    "    'NumberOfTime30-59DaysPastDueNotWorse',\n",
    "] = data[\"NumberOfTime30-59DaysPastDueNotWorse\"].median()"
   ]
  },
  {
   "cell_type": "code",
   "execution_count": 105,
   "metadata": {},
   "outputs": [
    {
     "data": {
      "text/plain": [
       "<matplotlib.axes._subplots.AxesSubplot at 0x11ee1b898>"
      ]
     },
     "execution_count": 105,
     "metadata": {},
     "output_type": "execute_result"
    },
    {
     "data": {
      "image/png": "[encoded data removed]",
      "text/plain": [
       "<Figure size 432x288 with 1 Axes>"
      ]
     },
     "metadata": {
      "needs_background": "light"
     },
     "output_type": "display_data"
    }
   ],
   "source": [
    "data[\"NumberOfTime30-59DaysPastDueNotWorse\"].hist()"
   ]
  },
  {
   "cell_type": "markdown",
   "metadata": {},
   "source": [
    "### NumberOfTimes90DaysLate"
   ]
  },
  {
   "cell_type": "code",
   "execution_count": 106,
   "metadata": {},
   "outputs": [
    {
     "data": {
      "text/plain": [
       "<matplotlib.axes._subplots.AxesSubplot at 0x11ecbfc18>"
      ]
     },
     "execution_count": 106,
     "metadata": {},
     "output_type": "execute_result"
    },
    {
     "data": {
      "image/png": "[encoded data removed]",
      "text/plain": [
       "<Figure size 432x288 with 1 Axes>"
      ]
     },
     "metadata": {
      "needs_background": "light"
     },
     "output_type": "display_data"
    }
   ],
   "source": [
    "data.NumberOfTimes90DaysLate.hist()"
   ]
  },
  {
   "cell_type": "code",
   "execution_count": 107,
   "metadata": {},
   "outputs": [
    {
     "data": {
      "text/plain": [
       "Counter({0: 141662,\n",
       "         1: 5243,\n",
       "         3: 667,\n",
       "         2: 1555,\n",
       "         5: 131,\n",
       "         4: 291,\n",
       "         98: 264,\n",
       "         10: 8,\n",
       "         9: 19,\n",
       "         6: 80,\n",
       "         7: 38,\n",
       "         8: 21,\n",
       "         15: 2,\n",
       "         96: 5,\n",
       "         11: 5,\n",
       "         13: 4,\n",
       "         14: 2,\n",
       "         17: 1,\n",
       "         12: 2})"
      ]
     },
     "execution_count": 107,
     "metadata": {},
     "output_type": "execute_result"
    }
   ],
   "source": [
    "Counter(data.NumberOfTimes90DaysLate)"
   ]
  },
  {
   "cell_type": "markdown",
   "metadata": {},
   "source": [
    "On suppose encore que les valeurs 96 et 98 sont des erreurs."
   ]
  },
  {
   "cell_type": "code",
   "execution_count": 108,
   "metadata": {},
   "outputs": [],
   "source": [
    "data.loc[\n",
    "    data.NumberOfTimes90DaysLate > 20,\n",
    "    'NumberOfTimes90DaysLate',\n",
    "] = data.NumberOfTimes90DaysLate.median()"
   ]
  },
  {
   "cell_type": "code",
   "execution_count": 109,
   "metadata": {},
   "outputs": [
    {
     "data": {
      "text/plain": [
       "<matplotlib.axes._subplots.AxesSubplot at 0x11ed98e10>"
      ]
     },
     "execution_count": 109,
     "metadata": {},
     "output_type": "execute_result"
    },
    {
     "data": {
      "image/png": "[encoded data removed]",
      "text/plain": [
       "<Figure size 432x288 with 1 Axes>"
      ]
     },
     "metadata": {
      "needs_background": "light"
     },
     "output_type": "display_data"
    }
   ],
   "source": [
    "data.NumberOfTimes90DaysLate.hist()"
   ]
  },
  {
   "cell_type": "markdown",
   "metadata": {},
   "source": [
    "### NumberRealEstateLoansOrLines¶"
   ]
  },
  {
   "cell_type": "code",
   "execution_count": 110,
   "metadata": {},
   "outputs": [
    {
     "data": {
      "text/plain": [
       "<matplotlib.axes._subplots.AxesSubplot at 0x11f47b208>"
      ]
     },
     "execution_count": 110,
     "metadata": {},
     "output_type": "execute_result"
    },
    {
     "data": {
      "image/png": "[encoded data removed]",
      "text/plain": [
       "<Figure size 432x288 with 1 Axes>"
      ]
     },
     "metadata": {
      "needs_background": "light"
     },
     "output_type": "display_data"
    }
   ],
   "source": [
    "data.NumberRealEstateLoansOrLines.hist()"
   ]
  },
  {
   "cell_type": "code",
   "execution_count": 111,
   "metadata": {},
   "outputs": [
    {
     "data": {
      "text/plain": [
       "Counter({6: 320,\n",
       "         0: 56188,\n",
       "         1: 52338,\n",
       "         3: 6300,\n",
       "         4: 2170,\n",
       "         2: 31522,\n",
       "         5: 689,\n",
       "         8: 93,\n",
       "         7: 171,\n",
       "         9: 78,\n",
       "         17: 4,\n",
       "         15: 7,\n",
       "         10: 37,\n",
       "         12: 18,\n",
       "         11: 23,\n",
       "         16: 4,\n",
       "         26: 1,\n",
       "         14: 7,\n",
       "         54: 1,\n",
       "         21: 1,\n",
       "         18: 2,\n",
       "         13: 15,\n",
       "         23: 2,\n",
       "         29: 1,\n",
       "         25: 3,\n",
       "         19: 2,\n",
       "         20: 2,\n",
       "         32: 1})"
      ]
     },
     "execution_count": 111,
     "metadata": {},
     "output_type": "execute_result"
    }
   ],
   "source": [
    "Counter(data.NumberRealEstateLoansOrLines)"
   ]
  },
  {
   "cell_type": "markdown",
   "metadata": {},
   "source": [
    "Ici, les valeurs ne sont pas aussi dispersées que dans les cas précédents. Nous considérons qu'elles sont sans erreurs."
   ]
  },
  {
   "cell_type": "markdown",
   "metadata": {},
   "source": [
    "### NumberOfDependents"
   ]
  },
  {
   "cell_type": "code",
   "execution_count": 112,
   "metadata": {},
   "outputs": [
    {
     "data": {
      "text/plain": [
       "<matplotlib.axes._subplots.AxesSubplot at 0x11fa5ab00>"
      ]
     },
     "execution_count": 112,
     "metadata": {},
     "output_type": "execute_result"
    },
    {
     "data": {
      "image/png": "[encoded data removed]",
      "text/plain": [
       "<Figure size 432x288 with 1 Axes>"
      ]
     },
     "metadata": {
      "needs_background": "light"
     },
     "output_type": "display_data"
    }
   ],
   "source": [
    "data.NumberOfDependents.hist()"
   ]
  },
  {
   "cell_type": "code",
   "execution_count": 113,
   "metadata": {},
   "outputs": [
    {
     "data": {
      "text/plain": [
       "Counter({2.0: 19522,\n",
       "         1.0: 26316,\n",
       "         0.0: 86902,\n",
       "         nan: 1,\n",
       "         3.0: 9483,\n",
       "         nan: 1,\n",
       "         nan: 1,\n",
       "         4.0: 2862,\n",
       "         5.0: 746,\n",
       "         nan: 1,\n",
       "         nan: 1,\n",
       "         nan: 1,\n",
       "         nan: 1,\n",
       "         nan: 1,\n",
       "         nan: 1,\n",
       "         nan: 1,\n",
       "         nan: 1,\n",
       "         6.0: 158,\n",
       "         nan: 1,\n",
       "         nan: 1,\n",
       "         nan: 1,\n",
       "         nan: 1,\n",
       "         nan: 1,\n",
       "         nan: 1,\n",
       "         nan: 1,\n",
       "         nan: 1,\n",
       "         nan: 1,\n",
       "         nan: 1,\n",
       "         nan: 1,\n",
       "         nan: 1,\n",
       "         nan: 1,\n",
       "         nan: 1,\n",
       "         nan: 1,\n",
       "         nan: 1,\n",
       "         nan: 1,\n",
       "         nan: 1,\n",
       "         nan: 1,\n",
       "         nan: 1,\n",
       "         nan: 1,\n",
       "         nan: 1,\n",
       "         nan: 1,\n",
       "         nan: 1,\n",
       "         nan: 1,\n",
       "         nan: 1,\n",
       "         nan: 1,\n",
       "         nan: 1,\n",
       "         nan: 1,\n",
       "         nan: 1,\n",
       "         nan: 1,\n",
       "         nan: 1,\n",
       "         8.0: 24,\n",
       "         nan: 1,\n",
       "         nan: 1,\n",
       "         nan: 1,\n",
       "         nan: 1,\n",
       "         nan: 1,\n",
       "         nan: 1,\n",
       "         nan: 1,\n",
       "         nan: 1,\n",
       "         nan: 1,\n",
       "         nan: 1,\n",
       "         nan: 1,\n",
       "         nan: 1,\n",
       "         nan: 1,\n",
       "         nan: 1,\n",
       "         nan: 1,\n",
       "         7.0: 51,\n",
       "         nan: 1,\n",
       "         nan: 1,\n",
       "         nan: 1,\n",
       "         nan: 1,\n",
       "         nan: 1,\n",
       "         nan: 1,\n",
       "         nan: 1,\n",
       "         nan: 1,\n",
       "         nan: 1,\n",
       "         nan: 1,\n",
       "         nan: 1,\n",
       "         nan: 1,\n",
       "         nan: 1,\n",
       "         nan: 1,\n",
       "         nan: 1,\n",
       "         nan: 1,\n",
       "         nan: 1,\n",
       "         nan: 1,\n",
       "         nan: 1,\n",
       "         nan: 1,\n",
       "         nan: 1,\n",
       "         nan: 1,\n",
       "         nan: 1,\n",
       "         nan: 1,\n",
       "         nan: 1,\n",
       "         nan: 1,\n",
       "         nan: 1,\n",
       "         nan: 1,\n",
       "         nan: 1,\n",
       "         nan: 1,\n",
       "         nan: 1,\n",
       "         nan: 1,\n",
       "         nan: 1,\n",
       "         nan: 1,\n",
       "         nan: 1,\n",
       "         nan: 1,\n",
       "         nan: 1,\n",
       "         nan: 1,\n",
       "         nan: 1,\n",
       "         nan: 1,\n",
       "         nan: 1,\n",
       "         nan: 1,\n",
       "         nan: 1,\n",
       "         nan: 1,\n",
       "         nan: 1,\n",
       "         nan: 1,\n",
       "         nan: 1,\n",
       "         nan: 1,\n",
       "         nan: 1,\n",
       "         nan: 1,\n",
       "         nan: 1,\n",
       "         nan: 1,\n",
       "         nan: 1,\n",
       "         nan: 1,\n",
       "         nan: 1,\n",
       "         nan: 1,\n",
       "         nan: 1,\n",
       "         nan: 1,\n",
       "         nan: 1,\n",
       "         nan: 1,\n",
       "         nan: 1,\n",
       "         nan: 1,\n",
       "         nan: 1,\n",
       "         nan: 1,\n",
       "         nan: 1,\n",
       "         nan: 1,\n",
       "         nan: 1,\n",
       "         nan: 1,\n",
       "         nan: 1,\n",
       "         nan: 1,\n",
       "         nan: 1,\n",
       "         nan: 1,\n",
       "         nan: 1,\n",
       "         nan: 1,\n",
       "         nan: 1,\n",
       "         nan: 1,\n",
       "         nan: 1,\n",
       "         nan: 1,\n",
       "         nan: 1,\n",
       "         nan: 1,\n",
       "         nan: 1,\n",
       "         nan: 1,\n",
       "         nan: 1,\n",
       "         nan: 1,\n",
       "         nan: 1,\n",
       "         nan: 1,\n",
       "         nan: 1,\n",
       "         nan: 1,\n",
       "         nan: 1,\n",
       "         nan: 1,\n",
       "         nan: 1,\n",
       "         nan: 1,\n",
       "         nan: 1,\n",
       "         nan: 1,\n",
       "         nan: 1,\n",
       "         nan: 1,\n",
       "         nan: 1,\n",
       "         nan: 1,\n",
       "         nan: 1,\n",
       "         nan: 1,\n",
       "         nan: 1,\n",
       "         nan: 1,\n",
       "         nan: 1,\n",
       "         nan: 1,\n",
       "         nan: 1,\n",
       "         nan: 1,\n",
       "         nan: 1,\n",
       "         nan: 1,\n",
       "         nan: 1,\n",
       "         20.0: 1,\n",
       "         nan: 1,\n",
       "         nan: 1,\n",
       "         nan: 1,\n",
       "         nan: 1,\n",
       "         nan: 1,\n",
       "         nan: 1,\n",
       "         nan: 1,\n",
       "         nan: 1,\n",
       "         nan: 1,\n",
       "         nan: 1,\n",
       "         nan: 1,\n",
       "         nan: 1,\n",
       "         nan: 1,\n",
       "         nan: 1,\n",
       "         nan: 1,\n",
       "         nan: 1,\n",
       "         nan: 1,\n",
       "         nan: 1,\n",
       "         nan: 1,\n",
       "         nan: 1,\n",
       "         nan: 1,\n",
       "         nan: 1,\n",
       "         nan: 1,\n",
       "         nan: 1,\n",
       "         nan: 1,\n",
       "         nan: 1,\n",
       "         nan: 1,\n",
       "         nan: 1,\n",
       "         nan: 1,\n",
       "         nan: 1,\n",
       "         nan: 1,\n",
       "         nan: 1,\n",
       "         nan: 1,\n",
       "         nan: 1,\n",
       "         nan: 1,\n",
       "         nan: 1,\n",
       "         nan: 1,\n",
       "         nan: 1,\n",
       "         nan: 1,\n",
       "         nan: 1,\n",
       "         nan: 1,\n",
       "         nan: 1,\n",
       "         nan: 1,\n",
       "         nan: 1,\n",
       "         nan: 1,\n",
       "         nan: 1,\n",
       "         nan: 1,\n",
       "         nan: 1,\n",
       "         nan: 1,\n",
       "         nan: 1,\n",
       "         nan: 1,\n",
       "         nan: 1,\n",
       "         nan: 1,\n",
       "         nan: 1,\n",
       "         nan: 1,\n",
       "         nan: 1,\n",
       "         nan: 1,\n",
       "         nan: 1,\n",
       "         nan: 1,\n",
       "         nan: 1,\n",
       "         nan: 1,\n",
       "         nan: 1,\n",
       "         nan: 1,\n",
       "         nan: 1,\n",
       "         nan: 1,\n",
       "         nan: 1,\n",
       "         nan: 1,\n",
       "         nan: 1,\n",
       "         nan: 1,\n",
       "         nan: 1,\n",
       "         nan: 1,\n",
       "         nan: 1,\n",
       "         nan: 1,\n",
       "         nan: 1,\n",
       "         nan: 1,\n",
       "         nan: 1,\n",
       "         nan: 1,\n",
       "         nan: 1,\n",
       "         nan: 1,\n",
       "         nan: 1,\n",
       "         nan: 1,\n",
       "         nan: 1,\n",
       "         nan: 1,\n",
       "         nan: 1,\n",
       "         nan: 1,\n",
       "         nan: 1,\n",
       "         nan: 1,\n",
       "         nan: 1,\n",
       "         nan: 1,\n",
       "         nan: 1,\n",
       "         nan: 1,\n",
       "         nan: 1,\n",
       "         nan: 1,\n",
       "         nan: 1,\n",
       "         nan: 1,\n",
       "         nan: 1,\n",
       "         nan: 1,\n",
       "         nan: 1,\n",
       "         nan: 1,\n",
       "         nan: 1,\n",
       "         nan: 1,\n",
       "         nan: 1,\n",
       "         nan: 1,\n",
       "         nan: 1,\n",
       "         nan: 1,\n",
       "         nan: 1,\n",
       "         nan: 1,\n",
       "         nan: 1,\n",
       "         nan: 1,\n",
       "         nan: 1,\n",
       "         nan: 1,\n",
       "         nan: 1,\n",
       "         nan: 1,\n",
       "         nan: 1,\n",
       "         nan: 1,\n",
       "         nan: 1,\n",
       "         nan: 1,\n",
       "         nan: 1,\n",
       "         nan: 1,\n",
       "         nan: 1,\n",
       "         nan: 1,\n",
       "         nan: 1,\n",
       "         nan: 1,\n",
       "         nan: 1,\n",
       "         nan: 1,\n",
       "         nan: 1,\n",
       "         nan: 1,\n",
       "         nan: 1,\n",
       "         nan: 1,\n",
       "         nan: 1,\n",
       "         nan: 1,\n",
       "         nan: 1,\n",
       "         10.0: 5,\n",
       "         nan: 1,\n",
       "         nan: 1,\n",
       "         nan: 1,\n",
       "         nan: 1,\n",
       "         nan: 1,\n",
       "         nan: 1,\n",
       "         nan: 1,\n",
       "         nan: 1,\n",
       "         nan: 1,\n",
       "         nan: 1,\n",
       "         nan: 1,\n",
       "         nan: 1,\n",
       "         nan: 1,\n",
       "         nan: 1,\n",
       "         nan: 1,\n",
       "         nan: 1,\n",
       "         nan: 1,\n",
       "         nan: 1,\n",
       "         nan: 1,\n",
       "         nan: 1,\n",
       "         nan: 1,\n",
       "         nan: 1,\n",
       "         nan: 1,\n",
       "         nan: 1,\n",
       "         nan: 1,\n",
       "         nan: 1,\n",
       "         nan: 1,\n",
       "         nan: 1,\n",
       "         nan: 1,\n",
       "         nan: 1,\n",
       "         nan: 1,\n",
       "         nan: 1,\n",
       "         nan: 1,\n",
       "         nan: 1,\n",
       "         nan: 1,\n",
       "         nan: 1,\n",
       "         nan: 1,\n",
       "         nan: 1,\n",
       "         nan: 1,\n",
       "         nan: 1,\n",
       "         nan: 1,\n",
       "         nan: 1,\n",
       "         nan: 1,\n",
       "         nan: 1,\n",
       "         nan: 1,\n",
       "         nan: 1,\n",
       "         nan: 1,\n",
       "         nan: 1,\n",
       "         nan: 1,\n",
       "         nan: 1,\n",
       "         nan: 1,\n",
       "         nan: 1,\n",
       "         nan: 1,\n",
       "         nan: 1,\n",
       "         nan: 1,\n",
       "         nan: 1,\n",
       "         nan: 1,\n",
       "         nan: 1,\n",
       "         nan: 1,\n",
       "         nan: 1,\n",
       "         nan: 1,\n",
       "         nan: 1,\n",
       "         nan: 1,\n",
       "         nan: 1,\n",
       "         nan: 1,\n",
       "         nan: 1,\n",
       "         nan: 1,\n",
       "         nan: 1,\n",
       "         nan: 1,\n",
       "         nan: 1,\n",
       "         nan: 1,\n",
       "         nan: 1,\n",
       "         nan: 1,\n",
       "         nan: 1,\n",
       "         nan: 1,\n",
       "         nan: 1,\n",
       "         nan: 1,\n",
       "         nan: 1,\n",
       "         nan: 1,\n",
       "         nan: 1,\n",
       "         nan: 1,\n",
       "         nan: 1,\n",
       "         nan: 1,\n",
       "         nan: 1,\n",
       "         nan: 1,\n",
       "         nan: 1,\n",
       "         nan: 1,\n",
       "         nan: 1,\n",
       "         nan: 1,\n",
       "         nan: 1,\n",
       "         nan: 1,\n",
       "         nan: 1,\n",
       "         nan: 1,\n",
       "         nan: 1,\n",
       "         nan: 1,\n",
       "         nan: 1,\n",
       "         nan: 1,\n",
       "         nan: 1,\n",
       "         nan: 1,\n",
       "         nan: 1,\n",
       "         nan: 1,\n",
       "         nan: 1,\n",
       "         nan: 1,\n",
       "         nan: 1,\n",
       "         nan: 1,\n",
       "         nan: 1,\n",
       "         nan: 1,\n",
       "         nan: 1,\n",
       "         nan: 1,\n",
       "         nan: 1,\n",
       "         nan: 1,\n",
       "         nan: 1,\n",
       "         nan: 1,\n",
       "         nan: 1,\n",
       "         nan: 1,\n",
       "         nan: 1,\n",
       "         nan: 1,\n",
       "         nan: 1,\n",
       "         nan: 1,\n",
       "         nan: 1,\n",
       "         nan: 1,\n",
       "         nan: 1,\n",
       "         nan: 1,\n",
       "         nan: 1,\n",
       "         nan: 1,\n",
       "         nan: 1,\n",
       "         nan: 1,\n",
       "         nan: 1,\n",
       "         nan: 1,\n",
       "         nan: 1,\n",
       "         nan: 1,\n",
       "         nan: 1,\n",
       "         nan: 1,\n",
       "         nan: 1,\n",
       "         nan: 1,\n",
       "         nan: 1,\n",
       "         nan: 1,\n",
       "         nan: 1,\n",
       "         nan: 1,\n",
       "         nan: 1,\n",
       "         nan: 1,\n",
       "         nan: 1,\n",
       "         nan: 1,\n",
       "         nan: 1,\n",
       "         nan: 1,\n",
       "         nan: 1,\n",
       "         nan: 1,\n",
       "         nan: 1,\n",
       "         nan: 1,\n",
       "         nan: 1,\n",
       "         nan: 1,\n",
       "         nan: 1,\n",
       "         nan: 1,\n",
       "         nan: 1,\n",
       "         nan: 1,\n",
       "         nan: 1,\n",
       "         nan: 1,\n",
       "         nan: 1,\n",
       "         nan: 1,\n",
       "         nan: 1,\n",
       "         nan: 1,\n",
       "         nan: 1,\n",
       "         nan: 1,\n",
       "         nan: 1,\n",
       "         nan: 1,\n",
       "         nan: 1,\n",
       "         nan: 1,\n",
       "         nan: 1,\n",
       "         nan: 1,\n",
       "         nan: 1,\n",
       "         nan: 1,\n",
       "         nan: 1,\n",
       "         nan: 1,\n",
       "         nan: 1,\n",
       "         nan: 1,\n",
       "         nan: 1,\n",
       "         nan: 1,\n",
       "         nan: 1,\n",
       "         nan: 1,\n",
       "         nan: 1,\n",
       "         nan: 1,\n",
       "         nan: 1,\n",
       "         nan: 1,\n",
       "         nan: 1,\n",
       "         nan: 1,\n",
       "         nan: 1,\n",
       "         nan: 1,\n",
       "         nan: 1,\n",
       "         nan: 1,\n",
       "         nan: 1,\n",
       "         nan: 1,\n",
       "         nan: 1,\n",
       "         nan: 1,\n",
       "         nan: 1,\n",
       "         nan: 1,\n",
       "         nan: 1,\n",
       "         nan: 1,\n",
       "         nan: 1,\n",
       "         nan: 1,\n",
       "         nan: 1,\n",
       "         nan: 1,\n",
       "         nan: 1,\n",
       "         nan: 1,\n",
       "         nan: 1,\n",
       "         nan: 1,\n",
       "         nan: 1,\n",
       "         nan: 1,\n",
       "         nan: 1,\n",
       "         nan: 1,\n",
       "         nan: 1,\n",
       "         nan: 1,\n",
       "         nan: 1,\n",
       "         nan: 1,\n",
       "         nan: 1,\n",
       "         nan: 1,\n",
       "         nan: 1,\n",
       "         nan: 1,\n",
       "         nan: 1,\n",
       "         nan: 1,\n",
       "         nan: 1,\n",
       "         nan: 1,\n",
       "         nan: 1,\n",
       "         nan: 1,\n",
       "         nan: 1,\n",
       "         nan: 1,\n",
       "         nan: 1,\n",
       "         nan: 1,\n",
       "         nan: 1,\n",
       "         nan: 1,\n",
       "         nan: 1,\n",
       "         nan: 1,\n",
       "         nan: 1,\n",
       "         nan: 1,\n",
       "         nan: 1,\n",
       "         nan: 1,\n",
       "         nan: 1,\n",
       "         nan: 1,\n",
       "         nan: 1,\n",
       "         nan: 1,\n",
       "         nan: 1,\n",
       "         nan: 1,\n",
       "         nan: 1,\n",
       "         nan: 1,\n",
       "         nan: 1,\n",
       "         nan: 1,\n",
       "         nan: 1,\n",
       "         nan: 1,\n",
       "         nan: 1,\n",
       "         nan: 1,\n",
       "         nan: 1,\n",
       "         nan: 1,\n",
       "         nan: 1,\n",
       "         nan: 1,\n",
       "         nan: 1,\n",
       "         nan: 1,\n",
       "         nan: 1,\n",
       "         nan: 1,\n",
       "         nan: 1,\n",
       "         nan: 1,\n",
       "         nan: 1,\n",
       "         nan: 1,\n",
       "         nan: 1,\n",
       "         nan: 1,\n",
       "         nan: 1,\n",
       "         nan: 1,\n",
       "         nan: 1,\n",
       "         nan: 1,\n",
       "         nan: 1,\n",
       "         nan: 1,\n",
       "         nan: 1,\n",
       "         nan: 1,\n",
       "         nan: 1,\n",
       "         nan: 1,\n",
       "         nan: 1,\n",
       "         nan: 1,\n",
       "         nan: 1,\n",
       "         nan: 1,\n",
       "         nan: 1,\n",
       "         nan: 1,\n",
       "         nan: 1,\n",
       "         nan: 1,\n",
       "         nan: 1,\n",
       "         nan: 1,\n",
       "         nan: 1,\n",
       "         nan: 1,\n",
       "         nan: 1,\n",
       "         nan: 1,\n",
       "         nan: 1,\n",
       "         nan: 1,\n",
       "         nan: 1,\n",
       "         nan: 1,\n",
       "         nan: 1,\n",
       "         nan: 1,\n",
       "         nan: 1,\n",
       "         nan: 1,\n",
       "         nan: 1,\n",
       "         nan: 1,\n",
       "         nan: 1,\n",
       "         nan: 1,\n",
       "         nan: 1,\n",
       "         nan: 1,\n",
       "         nan: 1,\n",
       "         nan: 1,\n",
       "         nan: 1,\n",
       "         nan: 1,\n",
       "         nan: 1,\n",
       "         nan: 1,\n",
       "         nan: 1,\n",
       "         nan: 1,\n",
       "         nan: 1,\n",
       "         nan: 1,\n",
       "         nan: 1,\n",
       "         nan: 1,\n",
       "         nan: 1,\n",
       "         nan: 1,\n",
       "         nan: 1,\n",
       "         nan: 1,\n",
       "         nan: 1,\n",
       "         nan: 1,\n",
       "         nan: 1,\n",
       "         nan: 1,\n",
       "         nan: 1,\n",
       "         nan: 1,\n",
       "         nan: 1,\n",
       "         nan: 1,\n",
       "         nan: 1,\n",
       "         nan: 1,\n",
       "         nan: 1,\n",
       "         nan: 1,\n",
       "         nan: 1,\n",
       "         nan: 1,\n",
       "         nan: 1,\n",
       "         nan: 1,\n",
       "         nan: 1,\n",
       "         nan: 1,\n",
       "         nan: 1,\n",
       "         nan: 1,\n",
       "         nan: 1,\n",
       "         nan: 1,\n",
       "         nan: 1,\n",
       "         nan: 1,\n",
       "         nan: 1,\n",
       "         nan: 1,\n",
       "         nan: 1,\n",
       "         nan: 1,\n",
       "         nan: 1,\n",
       "         nan: 1,\n",
       "         nan: 1,\n",
       "         nan: 1,\n",
       "         nan: 1,\n",
       "         nan: 1,\n",
       "         nan: 1,\n",
       "         nan: 1,\n",
       "         nan: 1,\n",
       "         nan: 1,\n",
       "         nan: 1,\n",
       "         nan: 1,\n",
       "         nan: 1,\n",
       "         nan: 1,\n",
       "         nan: 1,\n",
       "         nan: 1,\n",
       "         nan: 1,\n",
       "         nan: 1,\n",
       "         nan: 1,\n",
       "         nan: 1,\n",
       "         nan: 1,\n",
       "         nan: 1,\n",
       "         nan: 1,\n",
       "         nan: 1,\n",
       "         nan: 1,\n",
       "         nan: 1,\n",
       "         nan: 1,\n",
       "         nan: 1,\n",
       "         nan: 1,\n",
       "         nan: 1,\n",
       "         nan: 1,\n",
       "         nan: 1,\n",
       "         nan: 1,\n",
       "         nan: 1,\n",
       "         nan: 1,\n",
       "         nan: 1,\n",
       "         nan: 1,\n",
       "         nan: 1,\n",
       "         nan: 1,\n",
       "         nan: 1,\n",
       "         nan: 1,\n",
       "         nan: 1,\n",
       "         nan: 1,\n",
       "         nan: 1,\n",
       "         nan: 1,\n",
       "         nan: 1,\n",
       "         nan: 1,\n",
       "         nan: 1,\n",
       "         nan: 1,\n",
       "         nan: 1,\n",
       "         nan: 1,\n",
       "         nan: 1,\n",
       "         nan: 1,\n",
       "         nan: 1,\n",
       "         nan: 1,\n",
       "         nan: 1,\n",
       "         nan: 1,\n",
       "         nan: 1,\n",
       "         nan: 1,\n",
       "         nan: 1,\n",
       "         nan: 1,\n",
       "         nan: 1,\n",
       "         nan: 1,\n",
       "         nan: 1,\n",
       "         nan: 1,\n",
       "         nan: 1,\n",
       "         nan: 1,\n",
       "         nan: 1,\n",
       "         nan: 1,\n",
       "         nan: 1,\n",
       "         nan: 1,\n",
       "         nan: 1,\n",
       "         nan: 1,\n",
       "         nan: 1,\n",
       "         nan: 1,\n",
       "         nan: 1,\n",
       "         nan: 1,\n",
       "         nan: 1,\n",
       "         nan: 1,\n",
       "         nan: 1,\n",
       "         nan: 1,\n",
       "         nan: 1,\n",
       "         nan: 1,\n",
       "         nan: 1,\n",
       "         nan: 1,\n",
       "         nan: 1,\n",
       "         nan: 1,\n",
       "         nan: 1,\n",
       "         nan: 1,\n",
       "         nan: 1,\n",
       "         nan: 1,\n",
       "         nan: 1,\n",
       "         nan: 1,\n",
       "         nan: 1,\n",
       "         nan: 1,\n",
       "         nan: 1,\n",
       "         nan: 1,\n",
       "         nan: 1,\n",
       "         nan: 1,\n",
       "         nan: 1,\n",
       "         nan: 1,\n",
       "         nan: 1,\n",
       "         nan: 1,\n",
       "         nan: 1,\n",
       "         nan: 1,\n",
       "         nan: 1,\n",
       "         nan: 1,\n",
       "         nan: 1,\n",
       "         nan: 1,\n",
       "         nan: 1,\n",
       "         nan: 1,\n",
       "         nan: 1,\n",
       "         nan: 1,\n",
       "         nan: 1,\n",
       "         nan: 1,\n",
       "         nan: 1,\n",
       "         nan: 1,\n",
       "         nan: 1,\n",
       "         nan: 1,\n",
       "         nan: 1,\n",
       "         nan: 1,\n",
       "         nan: 1,\n",
       "         nan: 1,\n",
       "         nan: 1,\n",
       "         nan: 1,\n",
       "         nan: 1,\n",
       "         nan: 1,\n",
       "         nan: 1,\n",
       "         nan: 1,\n",
       "         nan: 1,\n",
       "         nan: 1,\n",
       "         nan: 1,\n",
       "         nan: 1,\n",
       "         nan: 1,\n",
       "         nan: 1,\n",
       "         nan: 1,\n",
       "         nan: 1,\n",
       "         nan: 1,\n",
       "         nan: 1,\n",
       "         nan: 1,\n",
       "         nan: 1,\n",
       "         nan: 1,\n",
       "         nan: 1,\n",
       "         nan: 1,\n",
       "         nan: 1,\n",
       "         nan: 1,\n",
       "         nan: 1,\n",
       "         nan: 1,\n",
       "         nan: 1,\n",
       "         nan: 1,\n",
       "         nan: 1,\n",
       "         nan: 1,\n",
       "         nan: 1,\n",
       "         nan: 1,\n",
       "         nan: 1,\n",
       "         nan: 1,\n",
       "         nan: 1,\n",
       "         nan: 1,\n",
       "         nan: 1,\n",
       "         nan: 1,\n",
       "         nan: 1,\n",
       "         nan: 1,\n",
       "         nan: 1,\n",
       "         nan: 1,\n",
       "         nan: 1,\n",
       "         nan: 1,\n",
       "         nan: 1,\n",
       "         nan: 1,\n",
       "         nan: 1,\n",
       "         nan: 1,\n",
       "         nan: 1,\n",
       "         nan: 1,\n",
       "         nan: 1,\n",
       "         nan: 1,\n",
       "         nan: 1,\n",
       "         nan: 1,\n",
       "         nan: 1,\n",
       "         nan: 1,\n",
       "         nan: 1,\n",
       "         nan: 1,\n",
       "         nan: 1,\n",
       "         nan: 1,\n",
       "         nan: 1,\n",
       "         nan: 1,\n",
       "         nan: 1,\n",
       "         nan: 1,\n",
       "         nan: 1,\n",
       "         nan: 1,\n",
       "         nan: 1,\n",
       "         nan: 1,\n",
       "         nan: 1,\n",
       "         nan: 1,\n",
       "         nan: 1,\n",
       "         nan: 1,\n",
       "         nan: 1,\n",
       "         nan: 1,\n",
       "         nan: 1,\n",
       "         nan: 1,\n",
       "         nan: 1,\n",
       "         nan: 1,\n",
       "         nan: 1,\n",
       "         nan: 1,\n",
       "         nan: 1,\n",
       "         nan: 1,\n",
       "         nan: 1,\n",
       "         nan: 1,\n",
       "         nan: 1,\n",
       "         nan: 1,\n",
       "         nan: 1,\n",
       "         nan: 1,\n",
       "         nan: 1,\n",
       "         nan: 1,\n",
       "         nan: 1,\n",
       "         nan: 1,\n",
       "         nan: 1,\n",
       "         nan: 1,\n",
       "         nan: 1,\n",
       "         nan: 1,\n",
       "         nan: 1,\n",
       "         nan: 1,\n",
       "         nan: 1,\n",
       "         nan: 1,\n",
       "         nan: 1,\n",
       "         nan: 1,\n",
       "         nan: 1,\n",
       "         nan: 1,\n",
       "         nan: 1,\n",
       "         nan: 1,\n",
       "         nan: 1,\n",
       "         nan: 1,\n",
       "         nan: 1,\n",
       "         nan: 1,\n",
       "         nan: 1,\n",
       "         nan: 1,\n",
       "         nan: 1,\n",
       "         nan: 1,\n",
       "         nan: 1,\n",
       "         nan: 1,\n",
       "         nan: 1,\n",
       "         nan: 1,\n",
       "         nan: 1,\n",
       "         nan: 1,\n",
       "         nan: 1,\n",
       "         nan: 1,\n",
       "         nan: 1,\n",
       "         nan: 1,\n",
       "         nan: 1,\n",
       "         nan: 1,\n",
       "         nan: 1,\n",
       "         nan: 1,\n",
       "         nan: 1,\n",
       "         nan: 1,\n",
       "         nan: 1,\n",
       "         nan: 1,\n",
       "         nan: 1,\n",
       "         nan: 1,\n",
       "         nan: 1,\n",
       "         nan: 1,\n",
       "         nan: 1,\n",
       "         nan: 1,\n",
       "         nan: 1,\n",
       "         nan: 1,\n",
       "         nan: 1,\n",
       "         nan: 1,\n",
       "         nan: 1,\n",
       "         nan: 1,\n",
       "         nan: 1,\n",
       "         nan: 1,\n",
       "         nan: 1,\n",
       "         nan: 1,\n",
       "         nan: 1,\n",
       "         nan: 1,\n",
       "         nan: 1,\n",
       "         nan: 1,\n",
       "         nan: 1,\n",
       "         nan: 1,\n",
       "         nan: 1,\n",
       "         nan: 1,\n",
       "         nan: 1,\n",
       "         nan: 1,\n",
       "         nan: 1,\n",
       "         nan: 1,\n",
       "         nan: 1,\n",
       "         nan: 1,\n",
       "         nan: 1,\n",
       "         nan: 1,\n",
       "         nan: 1,\n",
       "         nan: 1,\n",
       "         nan: 1,\n",
       "         nan: 1,\n",
       "         nan: 1,\n",
       "         nan: 1,\n",
       "         nan: 1,\n",
       "         nan: 1,\n",
       "         nan: 1,\n",
       "         nan: 1,\n",
       "         nan: 1,\n",
       "         nan: 1,\n",
       "         nan: 1,\n",
       "         nan: 1,\n",
       "         nan: 1,\n",
       "         nan: 1,\n",
       "         nan: 1,\n",
       "         nan: 1,\n",
       "         nan: 1,\n",
       "         nan: 1,\n",
       "         nan: 1,\n",
       "         nan: 1,\n",
       "         nan: 1,\n",
       "         nan: 1,\n",
       "         nan: 1,\n",
       "         nan: 1,\n",
       "         nan: 1,\n",
       "         nan: 1,\n",
       "         nan: 1,\n",
       "         nan: 1,\n",
       "         nan: 1,\n",
       "         nan: 1,\n",
       "         nan: 1,\n",
       "         nan: 1,\n",
       "         nan: 1,\n",
       "         nan: 1,\n",
       "         nan: 1,\n",
       "         nan: 1,\n",
       "         nan: 1,\n",
       "         nan: 1,\n",
       "         nan: 1,\n",
       "         nan: 1,\n",
       "         nan: 1,\n",
       "         nan: 1,\n",
       "         nan: 1,\n",
       "         nan: 1,\n",
       "         nan: 1,\n",
       "         nan: 1,\n",
       "         nan: 1,\n",
       "         nan: 1,\n",
       "         nan: 1,\n",
       "         nan: 1,\n",
       "         nan: 1,\n",
       "         nan: 1,\n",
       "         nan: 1,\n",
       "         nan: 1,\n",
       "         nan: 1,\n",
       "         nan: 1,\n",
       "         nan: 1,\n",
       "         ...})"
      ]
     },
     "execution_count": 113,
     "metadata": {},
     "output_type": "execute_result"
    }
   ],
   "source": [
    "Counter(data.NumberOfDependents)"
   ]
  },
  {
   "cell_type": "markdown",
   "metadata": {},
   "source": [
    "On retrouve beaucoup de valeurs NaN. On les remplace par la médiane."
   ]
  },
  {
   "cell_type": "code",
   "execution_count": 114,
   "metadata": {},
   "outputs": [],
   "source": [
    "data.loc[\n",
    "    data.NumberOfDependents.isnull(),\n",
    "    'NumberOfDependents',\n",
    "] = data.NumberOfDependents.median()"
   ]
  },
  {
   "cell_type": "code",
   "execution_count": 115,
   "metadata": {},
   "outputs": [
    {
     "data": {
      "text/plain": [
       "Series([], Name: NumberOfDependents, dtype: float64)"
      ]
     },
     "execution_count": 115,
     "metadata": {},
     "output_type": "execute_result"
    }
   ],
   "source": [
    "data.NumberOfDependents[data.NumberOfDependents.isnull()]"
   ]
  },
  {
   "cell_type": "code",
   "execution_count": 116,
   "metadata": {},
   "outputs": [
    {
     "data": {
      "text/plain": [
       "Counter({2.0: 19522,\n",
       "         1.0: 26316,\n",
       "         0.0: 90826,\n",
       "         3.0: 9483,\n",
       "         4.0: 2862,\n",
       "         5.0: 746,\n",
       "         6.0: 158,\n",
       "         8.0: 24,\n",
       "         7.0: 51,\n",
       "         20.0: 1,\n",
       "         10.0: 5,\n",
       "         9.0: 5,\n",
       "         13.0: 1})"
      ]
     },
     "execution_count": 116,
     "metadata": {},
     "output_type": "execute_result"
    }
   ],
   "source": [
    "Counter(data.NumberOfDependents)"
   ]
  },
  {
   "cell_type": "markdown",
   "metadata": {},
   "source": [
    "Les valeurs supérieures à 10 sont probablement des erreurs car très rares."
   ]
  },
  {
   "cell_type": "code",
   "execution_count": 117,
   "metadata": {},
   "outputs": [],
   "source": [
    "data.loc[\n",
    "    data.NumberOfDependents > 10,\n",
    "    'NumberOfDependents',\n",
    "] = 10"
   ]
  },
  {
   "cell_type": "code",
   "execution_count": 118,
   "metadata": {},
   "outputs": [
    {
     "data": {
      "text/plain": [
       "<matplotlib.axes._subplots.AxesSubplot at 0x1218f4cc0>"
      ]
     },
     "execution_count": 118,
     "metadata": {},
     "output_type": "execute_result"
    },
    {
     "data": {
      "image/png": "[encoded data removed]",
      "text/plain": [
       "<Figure size 432x288 with 1 Axes>"
      ]
     },
     "metadata": {
      "needs_background": "light"
     },
     "output_type": "display_data"
    }
   ],
   "source": [
    "data.NumberOfDependents.hist()"
   ]
  },
  {
   "cell_type": "markdown",
   "metadata": {},
   "source": [
    "### RevolvingUtilizationOfUnsecuredLines"
   ]
  },
  {
   "cell_type": "code",
   "execution_count": 119,
   "metadata": {},
   "outputs": [
    {
     "data": {
      "text/plain": [
       "<matplotlib.axes._subplots.AxesSubplot at 0x120628898>"
      ]
     },
     "execution_count": 119,
     "metadata": {},
     "output_type": "execute_result"
    },
    {
     "data": {
      "image/png": "[encoded data removed]",
      "text/plain": [
       "<Figure size 432x288 with 1 Axes>"
      ]
     },
     "metadata": {
      "needs_background": "light"
     },
     "output_type": "display_data"
    }
   ],
   "source": [
    "data.RevolvingUtilizationOfUnsecuredLines.hist()"
   ]
  },
  {
   "cell_type": "code",
   "execution_count": 120,
   "metadata": {},
   "outputs": [],
   "source": [
    "data.loc[\n",
    "    data.RevolvingUtilizationOfUnsecuredLines > 5,\n",
    "    'RevolvingUtilizationOfUnsecuredLines',\n",
    "] = data.RevolvingUtilizationOfUnsecuredLines.median()"
   ]
  },
  {
   "cell_type": "code",
   "execution_count": 121,
   "metadata": {},
   "outputs": [
    {
     "data": {
      "text/plain": [
       "<matplotlib.axes._subplots.AxesSubplot at 0x121998a20>"
      ]
     },
     "execution_count": 121,
     "metadata": {},
     "output_type": "execute_result"
    },
    {
     "data": {
      "image/png": "[encoded data removed]",
      "text/plain": [
       "<Figure size 432x288 with 1 Axes>"
      ]
     },
     "metadata": {
      "needs_background": "light"
     },
     "output_type": "display_data"
    }
   ],
   "source": [
    "data.RevolvingUtilizationOfUnsecuredLines.hist()"
   ]
  },
  {
   "cell_type": "markdown",
   "metadata": {},
   "source": [
    "### DebtRatio"
   ]
  },
  {
   "cell_type": "code",
   "execution_count": 122,
   "metadata": {},
   "outputs": [
    {
     "data": {
      "text/plain": [
       "<matplotlib.axes._subplots.AxesSubplot at 0x121c63ba8>"
      ]
     },
     "execution_count": 122,
     "metadata": {},
     "output_type": "execute_result"
    },
    {
     "data": {
      "image/png": "[encoded data removed]",
      "text/plain": [
       "<Figure size 432x288 with 1 Axes>"
      ]
     },
     "metadata": {
      "needs_background": "light"
     },
     "output_type": "display_data"
    }
   ],
   "source": [
    "data.DebtRatio.hist()"
   ]
  },
  {
   "cell_type": "code",
   "execution_count": 123,
   "metadata": {},
   "outputs": [
    {
     "data": {
      "text/plain": [
       "Counter({0.8029821290000001: 1,\n",
       "         0.12187620099999999: 1,\n",
       "         0.085113375: 1,\n",
       "         0.036049682: 2,\n",
       "         0.024925695: 1,\n",
       "         0.375606969: 1,\n",
       "         5710.0: 1,\n",
       "         0.20994001699999998: 3,\n",
       "         46.0: 35,\n",
       "         0.606290901: 1,\n",
       "         0.30947621: 1,\n",
       "         0.53152876: 1,\n",
       "         0.298354075: 1,\n",
       "         0.38296474700000005: 1,\n",
       "         477.0: 7,\n",
       "         0.20989175399999999: 1,\n",
       "         2058.0: 11,\n",
       "         0.18827406: 1,\n",
       "         0.527887839: 1,\n",
       "         0.065868263: 1,\n",
       "         0.430046338: 1,\n",
       "         0.47584138600000003: 1,\n",
       "         0.241103559: 3,\n",
       "         0.085512189: 1,\n",
       "         0.241621845: 1,\n",
       "         1.595253368: 1,\n",
       "         0.097672186: 1,\n",
       "         0.042383047: 2,\n",
       "         0.011761246999999999: 2,\n",
       "         0.436102527: 1,\n",
       "         0.155201143: 1,\n",
       "         0.472703063: 1,\n",
       "         977.0: 7,\n",
       "         0.313812313: 1,\n",
       "         0.257731959: 2,\n",
       "         0.073538769: 1,\n",
       "         0.567858035: 2,\n",
       "         0.134078212: 2,\n",
       "         0.00999001: 1,\n",
       "         0.8083404740000001: 1,\n",
       "         0.539554464: 1,\n",
       "         75.0: 32,\n",
       "         0.048211004: 1,\n",
       "         0.17012561399999998: 1,\n",
       "         1687.5: 1,\n",
       "         0.177787036: 1,\n",
       "         0.011167837: 1,\n",
       "         0.689370485: 1,\n",
       "         0.393662026: 1,\n",
       "         0.256339661: 1,\n",
       "         3095.0: 3,\n",
       "         0.824725092: 1,\n",
       "         0.0: 4113,\n",
       "         0.306381499: 1,\n",
       "         0.008064515999999999: 2,\n",
       "         0.073147745: 1,\n",
       "         0.016921775: 1,\n",
       "         0.35125893700000005: 1,\n",
       "         2477.0: 8,\n",
       "         0.261609907: 2,\n",
       "         0.241135663: 1,\n",
       "         0.00803428: 1,\n",
       "         1720.0: 9,\n",
       "         1.051397656: 1,\n",
       "         0.549877805: 1,\n",
       "         0.540983607: 1,\n",
       "         0.316416365: 1,\n",
       "         0.6810457520000001: 3,\n",
       "         0.11144427800000001: 1,\n",
       "         0.16106176: 1,\n",
       "         0.262611807: 1,\n",
       "         1824.0: 5,\n",
       "         0.369590815: 1,\n",
       "         3162.0: 2,\n",
       "         0.182881653: 1,\n",
       "         0.116614347: 1,\n",
       "         0.694646949: 1,\n",
       "         0.074155949: 1,\n",
       "         0.270448637: 1,\n",
       "         2.797698945: 1,\n",
       "         0.11113162300000001: 2,\n",
       "         0.208842479: 1,\n",
       "         2.604510673: 1,\n",
       "         0.492021814: 1,\n",
       "         0.395031809: 1,\n",
       "         0.31614487399999996: 1,\n",
       "         3282.0: 3,\n",
       "         0.004061230999999999: 3,\n",
       "         0.591477634: 1,\n",
       "         0.48728899700000006: 1,\n",
       "         15466.0: 1,\n",
       "         0.123797734: 1,\n",
       "         2662.0: 8,\n",
       "         0.368403802: 1,\n",
       "         0.51241535: 1,\n",
       "         0.288417167: 2,\n",
       "         10.0: 117,\n",
       "         0.280664917: 1,\n",
       "         0.48052395700000006: 1,\n",
       "         0.006799093000000001: 1,\n",
       "         15.0: 98,\n",
       "         0.32591852: 2,\n",
       "         0.138238573: 1,\n",
       "         0.299246282: 1,\n",
       "         0.258939285: 1,\n",
       "         0.026235802000000003: 2,\n",
       "         0.0034787790000000004: 1,\n",
       "         0.519493502: 2,\n",
       "         0.664221287: 1,\n",
       "         4739.0: 1,\n",
       "         0.009748781: 1,\n",
       "         1.3826291080000002: 1,\n",
       "         0.023993145: 3,\n",
       "         0.108089191: 1,\n",
       "         0.384441575: 1,\n",
       "         7.0: 115,\n",
       "         0.149103029: 1,\n",
       "         1.243362832: 1,\n",
       "         269.0: 7,\n",
       "         0.12290366: 1,\n",
       "         0.123752495: 1,\n",
       "         0.297933792: 2,\n",
       "         0.239507959: 1,\n",
       "         0.366545247: 1,\n",
       "         4090.0: 5,\n",
       "         0.63332301: 1,\n",
       "         0.2226598: 1,\n",
       "         0.218854341: 1,\n",
       "         0.26639446699999997: 1,\n",
       "         0.35169962200000005: 1,\n",
       "         994.0: 8,\n",
       "         0.001998002: 2,\n",
       "         0.517468688: 1,\n",
       "         0.086482558: 1,\n",
       "         0.10092034300000001: 1,\n",
       "         0.19964753300000002: 1,\n",
       "         1.065901518: 1,\n",
       "         1.129227053: 1,\n",
       "         0.112051635: 1,\n",
       "         0.315983758: 1,\n",
       "         0.323088235: 1,\n",
       "         3031.0: 3,\n",
       "         0.534027778: 1,\n",
       "         567.0: 8,\n",
       "         0.34359379100000004: 1,\n",
       "         0.43369976: 1,\n",
       "         0.452363811: 2,\n",
       "         0.427882174: 1,\n",
       "         0.7480719790000001: 1,\n",
       "         0.025911708: 2,\n",
       "         0.370876375: 1,\n",
       "         0.655812625: 1,\n",
       "         0.315171207: 2,\n",
       "         0.144616356: 1,\n",
       "         0.563752087: 1,\n",
       "         0.412979783: 1,\n",
       "         0.342971419: 1,\n",
       "         0.801999355: 1,\n",
       "         0.034847816000000004: 1,\n",
       "         2.0: 170,\n",
       "         0.7265669929999999: 1,\n",
       "         2088.0: 6,\n",
       "         1.104301274: 1,\n",
       "         0.6108412670000001: 1,\n",
       "         0.593899089: 1,\n",
       "         3.382196162: 1,\n",
       "         1268.0: 7,\n",
       "         639.5: 2,\n",
       "         0.138461538: 1,\n",
       "         0.8524295140000001: 2,\n",
       "         0.089091313: 2,\n",
       "         974.0: 13,\n",
       "         0.5436259489999999: 1,\n",
       "         0.365151154: 1,\n",
       "         0.342005076: 1,\n",
       "         0.330733853: 1,\n",
       "         0.0053191490000000004: 1,\n",
       "         0.010927876000000001: 1,\n",
       "         0.907538526: 1,\n",
       "         1593.0: 12,\n",
       "         0.667835346: 1,\n",
       "         2177.0: 3,\n",
       "         0.436665827: 1,\n",
       "         3144.0: 3,\n",
       "         0.47750362799999996: 1,\n",
       "         0.152896812: 1,\n",
       "         0.291709578: 1,\n",
       "         13.0: 114,\n",
       "         0.43891221799999997: 1,\n",
       "         0.47090194: 1,\n",
       "         0.33201638899999997: 1,\n",
       "         0.536703799: 1,\n",
       "         2932.0: 6,\n",
       "         0.156259612: 1,\n",
       "         0.016196761: 4,\n",
       "         74.5: 2,\n",
       "         0.22446550199999998: 1,\n",
       "         0.119660709: 1,\n",
       "         103.0: 20,\n",
       "         0.308438695: 1,\n",
       "         0.18131128600000002: 1,\n",
       "         0.269281443: 1,\n",
       "         0.166215372: 1,\n",
       "         0.42953389200000003: 1,\n",
       "         0.17386957: 1,\n",
       "         0.44375562399999996: 1,\n",
       "         0.024340075: 1,\n",
       "         1253.0: 11,\n",
       "         0.034326669: 1,\n",
       "         0.420180551: 1,\n",
       "         2826.0: 7,\n",
       "         0.358101135: 1,\n",
       "         0.183464028: 1,\n",
       "         0.04965839: 2,\n",
       "         5223.0: 1,\n",
       "         1208.0: 7,\n",
       "         0.031349387: 1,\n",
       "         800.0: 4,\n",
       "         0.332698534: 2,\n",
       "         0.13558915300000002: 2,\n",
       "         0.04578345: 1,\n",
       "         0.7001533740000001: 1,\n",
       "         0.376836435: 1,\n",
       "         0.29685480399999997: 1,\n",
       "         0.701766078: 1,\n",
       "         0.322446259: 2,\n",
       "         0.153500141: 1,\n",
       "         0.56071964: 1,\n",
       "         0.43602562100000003: 1,\n",
       "         0.262773723: 2,\n",
       "         0.002465931: 1,\n",
       "         0.5374855820000001: 1,\n",
       "         0.588073078: 1,\n",
       "         0.46024618700000003: 1,\n",
       "         0.353860086: 1,\n",
       "         3730.0: 2,\n",
       "         0.476704659: 1,\n",
       "         0.578676723: 1,\n",
       "         0.283765445: 1,\n",
       "         0.209961825: 1,\n",
       "         0.000285687: 7,\n",
       "         2825.0: 4,\n",
       "         0.040493251: 2,\n",
       "         0.20364404: 1,\n",
       "         0.14041952: 1,\n",
       "         0.45855115799999996: 1,\n",
       "         0.359964004: 1,\n",
       "         0.008886914000000001: 4,\n",
       "         0.165566887: 3,\n",
       "         0.257017809: 1,\n",
       "         0.151956584: 2,\n",
       "         0.092913547: 1,\n",
       "         0.058322869000000006: 1,\n",
       "         0.266909775: 1,\n",
       "         0.123125125: 1,\n",
       "         0.278077082: 1,\n",
       "         0.007988921999999999: 1,\n",
       "         86.0: 18,\n",
       "         0.125189985: 1,\n",
       "         1612.0: 6,\n",
       "         0.037259615: 1,\n",
       "         392.0: 10,\n",
       "         1.117952819: 1,\n",
       "         0.264078812: 1,\n",
       "         0.009691169: 1,\n",
       "         0.637607437: 1,\n",
       "         0.267149259: 1,\n",
       "         0.09414051699999999: 1,\n",
       "         0.529548989: 1,\n",
       "         0.175139978: 1,\n",
       "         0.130453416: 1,\n",
       "         0.44527736100000004: 1,\n",
       "         0.20592788399999998: 1,\n",
       "         0.637749121: 1,\n",
       "         0.389895596: 1,\n",
       "         0.32638368100000004: 1,\n",
       "         0.139429485: 1,\n",
       "         0.5956539129999999: 2,\n",
       "         0.178184282: 2,\n",
       "         0.554878049: 1,\n",
       "         0.272721679: 1,\n",
       "         0.307576329: 1,\n",
       "         5439.0: 2,\n",
       "         0.26287915300000003: 1,\n",
       "         0.092163472: 1,\n",
       "         0.34793041399999997: 3,\n",
       "         0.28446242: 1,\n",
       "         0.7056277059999999: 2,\n",
       "         942.0: 8,\n",
       "         0.6895897559999999: 1,\n",
       "         0.339332853: 1,\n",
       "         0.53628857: 1,\n",
       "         0.083799311: 1,\n",
       "         0.24651504: 1,\n",
       "         0.282830201: 1,\n",
       "         1005.0: 5,\n",
       "         0.7878030490000001: 1,\n",
       "         0.537441339: 1,\n",
       "         0.03988553: 1,\n",
       "         0.271186441: 2,\n",
       "         0.04663391099999999: 1,\n",
       "         0.39142767100000003: 1,\n",
       "         0.07584830299999999: 1,\n",
       "         0.408871921: 2,\n",
       "         0.166766647: 2,\n",
       "         0.066830086: 1,\n",
       "         0.144948404: 1,\n",
       "         0.463610776: 1,\n",
       "         0.13657561599999998: 3,\n",
       "         0.329935275: 1,\n",
       "         0.042836572999999996: 1,\n",
       "         0.184027338: 1,\n",
       "         0.632794037: 1,\n",
       "         0.406053995: 1,\n",
       "         0.043744532: 2,\n",
       "         0.472542946: 1,\n",
       "         3976.0: 3,\n",
       "         0.28847729899999996: 1,\n",
       "         0.7502008029999999: 1,\n",
       "         1.247340213: 1,\n",
       "         0.483518065: 1,\n",
       "         4211.0: 1,\n",
       "         0.168340507: 1,\n",
       "         0.318890815: 1,\n",
       "         0.7124587459999999: 1,\n",
       "         0.24947116100000002: 1,\n",
       "         0.40870635299999997: 2,\n",
       "         0.193935355: 2,\n",
       "         0.03975841: 1,\n",
       "         0.388320836: 1,\n",
       "         0.001534331: 1,\n",
       "         0.199761673: 1,\n",
       "         1.3949671769999998: 1,\n",
       "         0.18970257399999998: 2,\n",
       "         0.5722921910000001: 1,\n",
       "         0.42641246200000005: 1,\n",
       "         0.072914726: 1,\n",
       "         0.090341011: 1,\n",
       "         0.46132376399999997: 1,\n",
       "         0.38125431600000004: 1,\n",
       "         773.0: 8,\n",
       "         542.0: 5,\n",
       "         0.35667928600000004: 1,\n",
       "         0.45722203: 1,\n",
       "         0.21807127699999998: 1,\n",
       "         8380.0: 1,\n",
       "         151.0: 18,\n",
       "         2073.0: 5,\n",
       "         0.18462563899999998: 1,\n",
       "         2720.0: 5,\n",
       "         0.563328034: 1,\n",
       "         3388.0: 4,\n",
       "         0.033982276: 1,\n",
       "         0.119463561: 1,\n",
       "         0.698120752: 1,\n",
       "         0.170164956: 1,\n",
       "         0.33358330199999997: 2,\n",
       "         3878.0: 3,\n",
       "         0.46717171700000004: 1,\n",
       "         0.017655818: 1,\n",
       "         4480.0: 1,\n",
       "         6381.0: 1,\n",
       "         0.314566116: 1,\n",
       "         0.009596162: 5,\n",
       "         0.267146571: 1,\n",
       "         1063.0: 8,\n",
       "         0.214426305: 1,\n",
       "         0.164917541: 2,\n",
       "         0.10151414199999999: 1,\n",
       "         0.387956894: 1,\n",
       "         0.285156885: 1,\n",
       "         0.655589124: 1,\n",
       "         0.278226307: 1,\n",
       "         0.29022909199999997: 1,\n",
       "         130.0: 14,\n",
       "         870.0: 10,\n",
       "         0.13080895: 1,\n",
       "         0.10821382: 1,\n",
       "         0.008549573000000001: 1,\n",
       "         2028.0: 6,\n",
       "         876.0: 5,\n",
       "         2.086478612: 1,\n",
       "         0.007495315: 3,\n",
       "         34.0: 60,\n",
       "         0.28545299399999996: 1,\n",
       "         0.070513488: 1,\n",
       "         0.188281635: 1,\n",
       "         0.582162622: 1,\n",
       "         0.414081023: 1,\n",
       "         668.0: 9,\n",
       "         0.113421853: 1,\n",
       "         926.5: 1,\n",
       "         0.115826132: 1,\n",
       "         0.073772011: 1,\n",
       "         1.206516118: 1,\n",
       "         0.000268637: 1,\n",
       "         0.352214765: 1,\n",
       "         0.09298531800000001: 1,\n",
       "         0.437996083: 1,\n",
       "         0.043259135: 1,\n",
       "         0.492529978: 1,\n",
       "         0.34487992100000003: 1,\n",
       "         0.259102536: 1,\n",
       "         2113.0: 7,\n",
       "         1599.0: 9,\n",
       "         0.255290785: 2,\n",
       "         0.131430952: 1,\n",
       "         0.045366363: 1,\n",
       "         1.299736021: 1,\n",
       "         0.334245422: 1,\n",
       "         724.0: 7,\n",
       "         0.369223765: 1,\n",
       "         2221.5: 1,\n",
       "         0.644706486: 1,\n",
       "         1.2979007: 1,\n",
       "         0.41627543: 1,\n",
       "         0.035803497000000004: 1,\n",
       "         1786.0: 6,\n",
       "         0.386728192: 1,\n",
       "         0.130140954: 1,\n",
       "         0.000822143: 1,\n",
       "         0.7251374309999999: 1,\n",
       "         0.16069592: 1,\n",
       "         0.518991188: 1,\n",
       "         0.0032786890000000004: 1,\n",
       "         0.44668812799999996: 1,\n",
       "         0.41905226: 1,\n",
       "         3.0: 162,\n",
       "         0.686736475: 1,\n",
       "         0.603763294: 1,\n",
       "         1348.0: 8,\n",
       "         862.0: 10,\n",
       "         0.207789429: 1,\n",
       "         0.306409131: 1,\n",
       "         0.35815338799999996: 1,\n",
       "         0.209965006: 1,\n",
       "         0.785229953: 1,\n",
       "         0.179979778: 2,\n",
       "         0.19170579: 1,\n",
       "         0.013543599: 1,\n",
       "         2045.0: 5,\n",
       "         0.45405746799999996: 1,\n",
       "         0.671076012: 1,\n",
       "         0.11400478300000001: 1,\n",
       "         0.065493451: 1,\n",
       "         0.432010059: 1,\n",
       "         0.00912845: 1,\n",
       "         0.09558466800000001: 1,\n",
       "         726.0: 7,\n",
       "         0.229436075: 1,\n",
       "         0.177007047: 1,\n",
       "         0.257707218: 1,\n",
       "         0.145685279: 1,\n",
       "         0.566105156: 1,\n",
       "         0.39446055399999996: 1,\n",
       "         0.05353022599999999: 1,\n",
       "         0.130309575: 1,\n",
       "         0.006731051: 1,\n",
       "         0.594224361: 1,\n",
       "         0.38476152399999997: 1,\n",
       "         0.176964607: 4,\n",
       "         0.216405216: 1,\n",
       "         0.168767792: 1,\n",
       "         0.280494456: 3,\n",
       "         0.041583367: 1,\n",
       "         90.0: 25,\n",
       "         0.558762411: 1,\n",
       "         0.399106478: 1,\n",
       "         0.034395414: 1,\n",
       "         0.52409692: 1,\n",
       "         0.374304267: 1,\n",
       "         0.186225718: 1,\n",
       "         0.020763906999999998: 1,\n",
       "         0.478090767: 1,\n",
       "         0.4925: 1,\n",
       "         929.0: 7,\n",
       "         1.114622389: 1,\n",
       "         997.0: 9,\n",
       "         0.08626928199999999: 1,\n",
       "         0.412779302: 1,\n",
       "         0.254661625: 1,\n",
       "         0.229139073: 1,\n",
       "         0.44723563: 1,\n",
       "         0.205971968: 1,\n",
       "         0.068227425: 1,\n",
       "         0.384074741: 1,\n",
       "         0.5327545379999999: 2,\n",
       "         0.057990335: 1,\n",
       "         0.09963548: 1,\n",
       "         0.467850417: 1,\n",
       "         0.016683266999999998: 1,\n",
       "         0.533099636: 1,\n",
       "         0.6605284229999999: 1,\n",
       "         0.023181455: 2,\n",
       "         0.228402866: 1,\n",
       "         0.262848568: 1,\n",
       "         0.06762939700000001: 1,\n",
       "         8500.0: 1,\n",
       "         0.195074372: 1,\n",
       "         0.568886223: 2,\n",
       "         0.27802595199999997: 2,\n",
       "         1.6203449140000001: 1,\n",
       "         2126.0: 6,\n",
       "         0.34706616700000004: 1,\n",
       "         0.162635688: 1,\n",
       "         0.450171821: 1,\n",
       "         0.48256140000000003: 1,\n",
       "         0.297139683: 1,\n",
       "         0.0017857139999999999: 1,\n",
       "         0.20727405399999999: 1,\n",
       "         0.287187752: 1,\n",
       "         0.044762033: 1,\n",
       "         0.230261579: 1,\n",
       "         1215.0: 11,\n",
       "         0.790613718: 1,\n",
       "         0.055984556: 1,\n",
       "         0.724784402: 1,\n",
       "         3819.0: 6,\n",
       "         0.127071823: 1,\n",
       "         0.498488489: 1,\n",
       "         0.300839136: 1,\n",
       "         7963.0: 1,\n",
       "         0.5249499089999999: 1,\n",
       "         887.0: 9,\n",
       "         2301.0: 1,\n",
       "         0.4842141: 1,\n",
       "         0.881825173: 1,\n",
       "         499.0: 7,\n",
       "         0.674399608: 1,\n",
       "         0.43774319100000003: 1,\n",
       "         0.423251505: 1,\n",
       "         87.0: 28,\n",
       "         0.53418212: 1,\n",
       "         0.60616581: 1,\n",
       "         0.030774357999999998: 1,\n",
       "         0.35189178600000004: 1,\n",
       "         0.200843235: 1,\n",
       "         461.0: 6,\n",
       "         0.785404865: 2,\n",
       "         677.0: 5,\n",
       "         0.747375437: 1,\n",
       "         0.388566694: 1,\n",
       "         0.08951092: 1,\n",
       "         0.024885359: 1,\n",
       "         1314.0: 11,\n",
       "         0.353883732: 1,\n",
       "         3169.0: 4,\n",
       "         0.5274314210000001: 1,\n",
       "         0.33853112700000004: 1,\n",
       "         0.324741695: 1,\n",
       "         0.293637575: 1,\n",
       "         0.437717467: 1,\n",
       "         0.064119265: 1,\n",
       "         0.480393478: 1,\n",
       "         0.549380248: 1,\n",
       "         0.197624587: 1,\n",
       "         0.0013269: 1,\n",
       "         0.138721351: 1,\n",
       "         1.308922769: 1,\n",
       "         562.0: 11,\n",
       "         0.236980252: 1,\n",
       "         0.368063194: 1,\n",
       "         0.34805720799999995: 1,\n",
       "         0.185755935: 1,\n",
       "         0.18412348399999998: 1,\n",
       "         2568.0: 2,\n",
       "         0.33683158399999996: 1,\n",
       "         0.26017007600000003: 1,\n",
       "         0.37394067799999997: 1,\n",
       "         0.09893772099999999: 1,\n",
       "         556.0: 11,\n",
       "         0.238076192: 1,\n",
       "         1021.0: 10,\n",
       "         0.024303073999999997: 1,\n",
       "         0.24014398399999998: 1,\n",
       "         0.3539428: 1,\n",
       "         0.349026844: 1,\n",
       "         0.102800764: 1,\n",
       "         0.5725903210000001: 1,\n",
       "         0.010791367: 2,\n",
       "         0.454103343: 1,\n",
       "         0.35087418600000003: 1,\n",
       "         0.187762448: 3,\n",
       "         0.607594937: 1,\n",
       "         0.306101912: 1,\n",
       "         0.201025979: 1,\n",
       "         1.9086294419999998: 1,\n",
       "         723.0: 9,\n",
       "         0.158975542: 1,\n",
       "         0.513602495: 1,\n",
       "         0.17526690399999997: 1,\n",
       "         0.5668944570000001: 1,\n",
       "         0.002301937: 1,\n",
       "         0.263516583: 1,\n",
       "         0.2138395: 1,\n",
       "         0.44495604899999996: 1,\n",
       "         0.444444444: 3,\n",
       "         73.0: 22,\n",
       "         1468.0: 5,\n",
       "         0.506873282: 1,\n",
       "         0.25857662800000003: 1,\n",
       "         1.383017398: 1,\n",
       "         0.26687668800000003: 1,\n",
       "         0.191649336: 2,\n",
       "         0.571428571: 2,\n",
       "         0.157212981: 1,\n",
       "         0.020146833: 1,\n",
       "         0.14570361099999998: 1,\n",
       "         0.480082158: 1,\n",
       "         1.432686655: 1,\n",
       "         1581.0: 4,\n",
       "         2866.0: 5,\n",
       "         0.489714904: 1,\n",
       "         0.297372704: 1,\n",
       "         0.404799866: 1,\n",
       "         0.238127698: 1,\n",
       "         0.18373694699999998: 1,\n",
       "         79.0: 27,\n",
       "         0.295480067: 1,\n",
       "         0.24496788: 1,\n",
       "         0.17997517600000001: 1,\n",
       "         4659.0: 1,\n",
       "         2719.0: 7,\n",
       "         0.337622356: 1,\n",
       "         4294.0: 1,\n",
       "         5368.0: 2,\n",
       "         0.258589038: 1,\n",
       "         0.08037225: 1,\n",
       "         0.23358954: 1,\n",
       "         0.15661446199999998: 2,\n",
       "         10.80049875: 1,\n",
       "         84.0: 30,\n",
       "         0.37041867700000003: 1,\n",
       "         0.62273579: 3,\n",
       "         0.160317928: 1,\n",
       "         0.5583203729999999: 2,\n",
       "         0.238212526: 1,\n",
       "         0.16289178699999998: 1,\n",
       "         0.16218618099999998: 2,\n",
       "         1514.0: 10,\n",
       "         0.09352218300000001: 1,\n",
       "         1434.0: 7,\n",
       "         0.41637918100000004: 2,\n",
       "         0.21997471600000001: 1,\n",
       "         2092.0: 4,\n",
       "         0.36087970700000005: 1,\n",
       "         0.367553674: 1,\n",
       "         0.645104381: 1,\n",
       "         0.17512032600000002: 1,\n",
       "         8.0: 106,\n",
       "         0.361421689: 1,\n",
       "         0.517037339: 1,\n",
       "         0.009831695: 4,\n",
       "         0.305839582: 1,\n",
       "         0.325335893: 1,\n",
       "         0.017260735: 1,\n",
       "         0.39095856: 1,\n",
       "         0.009690817: 2,\n",
       "         3300.0: 4,\n",
       "         0.448326668: 1,\n",
       "         0.662152897: 1,\n",
       "         0.008908281: 1,\n",
       "         48.0: 41,\n",
       "         0.149077983: 1,\n",
       "         0.028599606: 1,\n",
       "         0.361340457: 1,\n",
       "         0.16645238699999998: 1,\n",
       "         0.115171335: 1,\n",
       "         0.335733141: 2,\n",
       "         0.035418452: 1,\n",
       "         0.513540291: 1,\n",
       "         0.037871034: 1,\n",
       "         0.017052375: 2,\n",
       "         0.45793064200000005: 1,\n",
       "         0.177955511: 1,\n",
       "         3.874422899: 1,\n",
       "         0.263151915: 1,\n",
       "         2958.0: 6,\n",
       "         0.27112148: 2,\n",
       "         0.20751867100000002: 1,\n",
       "         0.00711943: 1,\n",
       "         0.19994921899999998: 1,\n",
       "         0.232918082: 1,\n",
       "         0.182363527: 1,\n",
       "         0.44259290100000004: 2,\n",
       "         0.42767496299999996: 1,\n",
       "         1.012368584: 1,\n",
       "         0.262440354: 1,\n",
       "         0.441868921: 1,\n",
       "         0.19006230300000002: 1,\n",
       "         0.00019996: 6,\n",
       "         272.0: 9,\n",
       "         0.09035542199999999: 1,\n",
       "         0.5851222420000001: 1,\n",
       "         605.0: 6,\n",
       "         631.0: 4,\n",
       "         0.668266347: 3,\n",
       "         0.408475574: 1,\n",
       "         0.04587156: 1,\n",
       "         0.361938937: 1,\n",
       "         0.319174181: 1,\n",
       "         0.601017347: 1,\n",
       "         0.712194056: 1,\n",
       "         0.312937413: 1,\n",
       "         0.011195522: 4,\n",
       "         0.043739065: 1,\n",
       "         64.0: 44,\n",
       "         0.461357487: 1,\n",
       "         0.711075819: 1,\n",
       "         0.260763359: 1,\n",
       "         0.33629547299999996: 2,\n",
       "         0.37690561100000003: 1,\n",
       "         1653.0: 10,\n",
       "         0.735131912: 1,\n",
       "         0.23072116: 1,\n",
       "         0.870354941: 1,\n",
       "         3074.0: 5,\n",
       "         0.812870978: 1,\n",
       "         0.020708083000000002: 1,\n",
       "         0.650674663: 1,\n",
       "         0.6912791859999999: 1,\n",
       "         0.45369268100000004: 2,\n",
       "         0.42862854899999997: 1,\n",
       "         1321.0: 7,\n",
       "         0.010079194: 1,\n",
       "         0.044093178: 1,\n",
       "         1290.0: 11,\n",
       "         0.08049535599999999: 1,\n",
       "         0.315173697: 1,\n",
       "         0.335066493: 1,\n",
       "         0.052672049000000006: 1,\n",
       "         17.0: 65,\n",
       "         0.285324697: 1,\n",
       "         0.34037277: 1,\n",
       "         0.365787835: 1,\n",
       "         2284.0: 9,\n",
       "         0.25431323100000003: 1,\n",
       "         0.36919213100000003: 1,\n",
       "         0.228999349: 1,\n",
       "         0.540702656: 1,\n",
       "         0.128132981: 1,\n",
       "         0.632371083: 1,\n",
       "         0.215576215: 1,\n",
       "         0.32426757300000003: 2,\n",
       "         0.89117395: 1,\n",
       "         0.049700447: 1,\n",
       "         0.001723544: 1,\n",
       "         5.0: 143,\n",
       "         0.44187375: 1,\n",
       "         0.399050079: 1,\n",
       "         0.181233062: 1,\n",
       "         526.0: 13,\n",
       "         0.531464095: 1,\n",
       "         0.13271682099999998: 4,\n",
       "         0.372513562: 1,\n",
       "         0.067061144: 1,\n",
       "         0.128716003: 1,\n",
       "         1203.0: 11,\n",
       "         1189.0: 11,\n",
       "         2410.0: 11,\n",
       "         0.26775232: 1,\n",
       "         0.057388522000000004: 2,\n",
       "         0.342354782: 1,\n",
       "         0.508163945: 1,\n",
       "         0.17070563100000002: 1,\n",
       "         0.001287001: 1,\n",
       "         0.121568627: 1,\n",
       "         3265.0: 8,\n",
       "         1591.0: 11,\n",
       "         2336.0: 6,\n",
       "         0.177274242: 2,\n",
       "         0.129805014: 1,\n",
       "         523.0: 10,\n",
       "         0.053521541: 1,\n",
       "         0.193786454: 1,\n",
       "         0.515939338: 1,\n",
       "         0.22586133600000002: 1,\n",
       "         0.274952015: 2,\n",
       "         0.68127587: 1,\n",
       "         0.356018715: 1,\n",
       "         0.7358164540000001: 1,\n",
       "         0.166517857: 1,\n",
       "         111.0: 22,\n",
       "         11.0: 108,\n",
       "         0.08532195699999999: 1,\n",
       "         0.720069983: 1,\n",
       "         0.332280979: 1,\n",
       "         0.528550512: 1,\n",
       "         0.38708711: 1,\n",
       "         228.0: 8,\n",
       "         736.0: 11,\n",
       "         0.644091034: 1,\n",
       "         0.10787812199999999: 1,\n",
       "         0.002606106: 1,\n",
       "         0.165213329: 1,\n",
       "         0.217065334: 1,\n",
       "         68.0: 31,\n",
       "         0.552930754: 1,\n",
       "         415.0: 4,\n",
       "         1.002499107: 1,\n",
       "         0.47532270299999996: 1,\n",
       "         0.142385321: 1,\n",
       "         0.432783608: 1,\n",
       "         0.264841895: 1,\n",
       "         969.0: 8,\n",
       "         0.34467983799999996: 1,\n",
       "         0.01332778: 1,\n",
       "         0.33503665899999996: 1,\n",
       "         779.0: 8,\n",
       "         852.0: 3,\n",
       "         0.21628083899999997: 1,\n",
       "         0.01283697: 1,\n",
       "         1387.0: 6,\n",
       "         0.121319069: 1,\n",
       "         2231.0: 4,\n",
       "         0.26491169600000003: 3,\n",
       "         0.286158631: 1,\n",
       "         11311.0: 1,\n",
       "         0.332527053: 1,\n",
       "         0.963084409: 1,\n",
       "         6046.0: 2,\n",
       "         0.079193665: 1,\n",
       "         0.090386385: 1,\n",
       "         0.447142596: 1,\n",
       "         1874.0: 6,\n",
       "         0.38097673200000004: 1,\n",
       "         4.0: 174,\n",
       "         0.122830656: 1,\n",
       "         0.53801306: 1,\n",
       "         0.411084131: 1,\n",
       "         19.0: 91,\n",
       "         0.19614248899999998: 1,\n",
       "         0.10342511800000001: 1,\n",
       "         0.32224953: 1,\n",
       "         3174.0: 4,\n",
       "         4627.0: 2,\n",
       "         0.12183569300000001: 1,\n",
       "         0.22643396100000002: 1,\n",
       "         4121.0: 3,\n",
       "         0.427787663: 1,\n",
       "         2367.0: 7,\n",
       "         0.074734316: 1,\n",
       "         0.589815683: 1,\n",
       "         0.00829363: 1,\n",
       "         0.20716467600000002: 1,\n",
       "         0.7181719259999999: 1,\n",
       "         0.37380101600000004: 1,\n",
       "         3063.0: 7,\n",
       "         0.008456176: 2,\n",
       "         0.430297475: 1,\n",
       "         0.330947228: 1,\n",
       "         1202.0: 7,\n",
       "         0.137820513: 1,\n",
       "         0.301074556: 1,\n",
       "         0.375647341: 1,\n",
       "         1421.0: 9,\n",
       "         2788.0: 4,\n",
       "         0.022504141000000002: 1,\n",
       "         0.679853795: 1,\n",
       "         0.37374048200000004: 1,\n",
       "         0.31035201: 1,\n",
       "         0.311916978: 1,\n",
       "         0.283571758: 1,\n",
       "         0.319171724: 1,\n",
       "         0.236573549: 1,\n",
       "         1.298161471: 1,\n",
       "         0.274253271: 1,\n",
       "         0.528381219: 1,\n",
       "         0.551779288: 1,\n",
       "         0.42893401: 1,\n",
       "         81.0: 28,\n",
       "         1.112942122: 1,\n",
       "         0.032483758: 1,\n",
       "         2004.0: 12,\n",
       "         790.0: 7,\n",
       "         0.333851794: 1,\n",
       "         0.262694922: 1,\n",
       "         1673.0: 6,\n",
       "         0.802308265: 1,\n",
       "         0.5048870910000001: 1,\n",
       "         0.459166466: 2,\n",
       "         2628.0: 5,\n",
       "         0.006959443: 6,\n",
       "         0.524458002: 1,\n",
       "         0.194963754: 1,\n",
       "         3930.0: 2,\n",
       "         0.226213976: 1,\n",
       "         0.294852574: 2,\n",
       "         777.0: 8,\n",
       "         0.47490494299999997: 1,\n",
       "         274.0: 15,\n",
       "         0.27018019: 1,\n",
       "         0.984408835: 1,\n",
       "         0.515793683: 1,\n",
       "         7806.0: 2,\n",
       "         0.271467415: 1,\n",
       "         0.069040925: 1,\n",
       "         0.137224283: 1,\n",
       "         0.33987412100000003: 1,\n",
       "         1184.0: 9,\n",
       "         0.224577542: 3,\n",
       "         2809.0: 2,\n",
       "         0.454098361: 1,\n",
       "         0.06441717799999999: 1,\n",
       "         0.5602148929999999: 1,\n",
       "         0.343546258: 1,\n",
       "         0.37278722700000005: 1,\n",
       "         0.266873313: 1,\n",
       "         2615.0: 9,\n",
       "         0.370691923: 1,\n",
       "         0.008222093: 1,\n",
       "         1.220066377: 1,\n",
       "         0.421201915: 1,\n",
       "         0.881655429: 1,\n",
       "         0.75145816: 1,\n",
       "         0.046662777999999995: 1,\n",
       "         0.421048246: 1,\n",
       "         2.694610778: 1,\n",
       "         0.020736901000000002: 1,\n",
       "         0.514162132: 1,\n",
       "         692.0: 10,\n",
       "         1589.0: 6,\n",
       "         1.317473011: 1,\n",
       "         24.0: 79,\n",
       "         0.047400612: 1,\n",
       "         0.257757365: 1,\n",
       "         0.146276596: 1,\n",
       "         0.148162041: 1,\n",
       "         178.0: 9,\n",
       "         1934.0: 13,\n",
       "         817.0: 6,\n",
       "         2082.0: 4,\n",
       "         0.318734063: 1,\n",
       "         0.605098725: 1,\n",
       "         2446.0: 5,\n",
       "         0.31518720100000003: 1,\n",
       "         0.198811453: 1,\n",
       "         0.498692509: 2,\n",
       "         486.0: 8,\n",
       "         0.15695921300000001: 2,\n",
       "         0.167543201: 1,\n",
       "         162.0: 8,\n",
       "         0.5873616770000001: 1,\n",
       "         0.246784845: 1,\n",
       "         1.511162946: 1,\n",
       "         0.346902339: 1,\n",
       "         0.621679828: 1,\n",
       "         0.43211955399999996: 2,\n",
       "         85.0: 20,\n",
       "         106.2727273: 1,\n",
       "         0.061445262: 1,\n",
       "         0.546448087: 1,\n",
       "         346.0: 8,\n",
       "         0.180763847: 1,\n",
       "         0.18141723: 1,\n",
       "         0.611050027: 1,\n",
       "         0.313439924: 1,\n",
       "         3558.0: 1,\n",
       "         0.691183331: 1,\n",
       "         0.283411686: 2,\n",
       "         0.355043926: 1,\n",
       "         710.0: 9,\n",
       "         0.252274773: 1,\n",
       "         10.17127624: 1,\n",
       "         0.135553584: 1,\n",
       "         0.43955635: 1,\n",
       "         0.185055253: 1,\n",
       "         0.067877957: 1,\n",
       "         0.10267027699999999: 1,\n",
       "         0.306846806: 1,\n",
       "         0.531659631: 1,\n",
       "         0.291809152: 1,\n",
       "         0.217236784: 1,\n",
       "         0.268693009: 1,\n",
       "         0.433893685: 1,\n",
       "         0.047961631: 1,\n",
       "         0.537720414: 2,\n",
       "         2574.0: 4,\n",
       "         1.055195584: 1,\n",
       "         2910.0: 8,\n",
       "         0.53540175: 1,\n",
       "         0.278969295: 1,\n",
       "         3308.0: 4,\n",
       "         0.637788225: 1,\n",
       "         0.49856676200000005: 1,\n",
       "         1132.0: 9,\n",
       "         0.009947892: 1,\n",
       "         0.17830219600000002: 1,\n",
       "         1408.0: 9,\n",
       "         0.13407134099999998: 1,\n",
       "         1068.0: 19,\n",
       "         0.158997955: 1,\n",
       "         0.288725647: 1,\n",
       "         0.93824256: 1,\n",
       "         0.407318536: 1,\n",
       "         0.428758481: 1,\n",
       "         0.06513930700000001: 1,\n",
       "         0.19492502899999997: 1,\n",
       "         2.496503497: 1,\n",
       "         0.30808648899999996: 1,\n",
       "         ...})"
      ]
     },
     "execution_count": 123,
     "metadata": {},
     "output_type": "execute_result"
    }
   ],
   "source": [
    "Counter(data.DebtRatio)"
   ]
  },
  {
   "cell_type": "code",
   "execution_count": 124,
   "metadata": {},
   "outputs": [],
   "source": [
    "data.loc[\n",
    "    data.DebtRatio > 1,\n",
    "    'DebtRatio',\n",
    "] = data.DebtRatio.median()"
   ]
  },
  {
   "cell_type": "code",
   "execution_count": 125,
   "metadata": {},
   "outputs": [
    {
     "data": {
      "text/plain": [
       "<matplotlib.axes._subplots.AxesSubplot at 0x121c6f470>"
      ]
     },
     "execution_count": 125,
     "metadata": {},
     "output_type": "execute_result"
    },
    {
     "data": {
      "image/png": "[encoded data removed]",
      "text/plain": [
       "<Figure size 432x288 with 1 Axes>"
      ]
     },
     "metadata": {
      "needs_background": "light"
     },
     "output_type": "display_data"
    }
   ],
   "source": [
    "data.DebtRatio.hist()"
   ]
  },
  {
   "cell_type": "code",
   "execution_count": 126,
   "metadata": {},
   "outputs": [
    {
     "data": {
      "text/plain": [
       "count    150000.000000\n",
       "mean          0.317893\n",
       "std           0.199835\n",
       "min           0.000000\n",
       "25%           0.175074\n",
       "50%           0.366506\n",
       "75%           0.380021\n",
       "max           1.000000\n",
       "Name: DebtRatio, dtype: float64"
      ]
     },
     "execution_count": 126,
     "metadata": {},
     "output_type": "execute_result"
    }
   ],
   "source": [
    "data.DebtRatio.describe()"
   ]
  },
  {
   "cell_type": "markdown",
   "metadata": {},
   "source": [
    "### MonthlyIncome"
   ]
  },
  {
   "cell_type": "code",
   "execution_count": 127,
   "metadata": {},
   "outputs": [
    {
     "data": {
      "text/plain": [
       "<matplotlib.axes._subplots.AxesSubplot at 0x121c6f1d0>"
      ]
     },
     "execution_count": 127,
     "metadata": {},
     "output_type": "execute_result"
    },
    {
     "data": {
      "image/png": "[encoded data removed]",
      "text/plain": [
       "<Figure size 432x288 with 1 Axes>"
      ]
     },
     "metadata": {
      "needs_background": "light"
     },
     "output_type": "display_data"
    }
   ],
   "source": [
    "data.MonthlyIncome.hist()"
   ]
  },
  {
   "cell_type": "code",
   "execution_count": 128,
   "metadata": {},
   "outputs": [
    {
     "data": {
      "text/plain": [
       "count    1.202690e+05\n",
       "mean     6.670221e+03\n",
       "std      1.438467e+04\n",
       "min      0.000000e+00\n",
       "25%      3.400000e+03\n",
       "50%      5.400000e+03\n",
       "75%      8.249000e+03\n",
       "max      3.008750e+06\n",
       "Name: MonthlyIncome, dtype: float64"
      ]
     },
     "execution_count": 128,
     "metadata": {},
     "output_type": "execute_result"
    }
   ],
   "source": [
    "data.MonthlyIncome.describe()"
   ]
  },
  {
   "cell_type": "code",
   "execution_count": 129,
   "metadata": {},
   "outputs": [],
   "source": [
    "data.loc[data.MonthlyIncome.isnull(), 'MonthlyIncome'] = data.MonthlyIncome.median()"
   ]
  },
  {
   "cell_type": "code",
   "execution_count": 130,
   "metadata": {},
   "outputs": [
    {
     "data": {
      "text/plain": [
       "count    1.500000e+05\n",
       "mean     6.418455e+03\n",
       "std      1.289040e+04\n",
       "min      0.000000e+00\n",
       "25%      3.903000e+03\n",
       "50%      5.400000e+03\n",
       "75%      7.400000e+03\n",
       "max      3.008750e+06\n",
       "Name: MonthlyIncome, dtype: float64"
      ]
     },
     "execution_count": 130,
     "metadata": {},
     "output_type": "execute_result"
    }
   ],
   "source": [
    "data.MonthlyIncome.describe()"
   ]
  },
  {
   "cell_type": "markdown",
   "metadata": {},
   "source": [
    "### NumberOfOpenCreditLinesAndLoans"
   ]
  },
  {
   "cell_type": "code",
   "execution_count": 131,
   "metadata": {},
   "outputs": [
    {
     "data": {
      "text/plain": [
       "<matplotlib.axes._subplots.AxesSubplot at 0x12253abe0>"
      ]
     },
     "execution_count": 131,
     "metadata": {},
     "output_type": "execute_result"
    },
    {
     "data": {
      "image/png": "[encoded data removed]",
      "text/plain": [
       "<Figure size 432x288 with 1 Axes>"
      ]
     },
     "metadata": {
      "needs_background": "light"
     },
     "output_type": "display_data"
    }
   ],
   "source": [
    "data.NumberOfOpenCreditLinesAndLoans.hist()"
   ]
  },
  {
   "cell_type": "code",
   "execution_count": 132,
   "metadata": {},
   "outputs": [
    {
     "data": {
      "text/plain": [
       "count    150000.000000\n",
       "mean          8.452760\n",
       "std           5.145951\n",
       "min           0.000000\n",
       "25%           5.000000\n",
       "50%           8.000000\n",
       "75%          11.000000\n",
       "max          58.000000\n",
       "Name: NumberOfOpenCreditLinesAndLoans, dtype: float64"
      ]
     },
     "execution_count": 132,
     "metadata": {},
     "output_type": "execute_result"
    }
   ],
   "source": [
    "data.NumberOfOpenCreditLinesAndLoans.describe()"
   ]
  },
  {
   "cell_type": "markdown",
   "metadata": {},
   "source": [
    "Il ne semble pas y avoir d'erreurs manifestes."
   ]
  },
  {
   "cell_type": "markdown",
   "metadata": {},
   "source": [
    "### NumberOfTime60-89DaysPastDueNotWorse"
   ]
  },
  {
   "cell_type": "code",
   "execution_count": 133,
   "metadata": {},
   "outputs": [
    {
     "data": {
      "text/plain": [
       "<matplotlib.axes._subplots.AxesSubplot at 0x11f2c75f8>"
      ]
     },
     "execution_count": 133,
     "metadata": {},
     "output_type": "execute_result"
    },
    {
     "data": {
      "image/png": "[encoded data removed]",
      "text/plain": [
       "<Figure size 432x288 with 1 Axes>"
      ]
     },
     "metadata": {
      "needs_background": "light"
     },
     "output_type": "display_data"
    }
   ],
   "source": [
    "data[\"NumberOfTime60-89DaysPastDueNotWorse\"].hist()"
   ]
  },
  {
   "cell_type": "code",
   "execution_count": 134,
   "metadata": {},
   "outputs": [
    {
     "data": {
      "text/plain": [
       "count    150000.000000\n",
       "mean          0.240387\n",
       "std           4.155179\n",
       "min           0.000000\n",
       "25%           0.000000\n",
       "50%           0.000000\n",
       "75%           0.000000\n",
       "max          98.000000\n",
       "Name: NumberOfTime60-89DaysPastDueNotWorse, dtype: float64"
      ]
     },
     "execution_count": 134,
     "metadata": {},
     "output_type": "execute_result"
    }
   ],
   "source": [
    "data[\"NumberOfTime60-89DaysPastDueNotWorse\"].describe()"
   ]
  },
  {
   "cell_type": "markdown",
   "metadata": {},
   "source": [
    "## Vérifications"
   ]
  },
  {
   "cell_type": "code",
   "execution_count": 135,
   "metadata": {},
   "outputs": [
    {
     "data": {
      "text/plain": [
       "array([[<matplotlib.axes._subplots.AxesSubplot object at 0x11f2f18d0>,\n",
       "        <matplotlib.axes._subplots.AxesSubplot object at 0x11f375710>,\n",
       "        <matplotlib.axes._subplots.AxesSubplot object at 0x12280ccc0>],\n",
       "       [<matplotlib.axes._subplots.AxesSubplot object at 0x12284a2b0>,\n",
       "        <matplotlib.axes._subplots.AxesSubplot object at 0x12287b860>,\n",
       "        <matplotlib.axes._subplots.AxesSubplot object at 0x1228ade10>],\n",
       "       [<matplotlib.axes._subplots.AxesSubplot object at 0x123027400>,\n",
       "        <matplotlib.axes._subplots.AxesSubplot object at 0x1230599e8>,\n",
       "        <matplotlib.axes._subplots.AxesSubplot object at 0x123059a20>],\n",
       "       [<matplotlib.axes._subplots.AxesSubplot object at 0x1230c8550>,\n",
       "        <matplotlib.axes._subplots.AxesSubplot object at 0x1230fab00>,\n",
       "        <matplotlib.axes._subplots.AxesSubplot object at 0x1231390f0>]],\n",
       "      dtype=object)"
      ]
     },
     "execution_count": 135,
     "metadata": {},
     "output_type": "execute_result"
    },
    {
     "data": {
      "image/png": "[encoded data removed]",
      "text/plain": [
       "<Figure size 432x288 with 12 Axes>"
      ]
     },
     "metadata": {
      "needs_background": "light"
     },
     "output_type": "display_data"
    }
   ],
   "source": [
    "data.hist()"
   ]
  },
  {
   "cell_type": "markdown",
   "metadata": {},
   "source": [
    "## Nouvel essai d'entrainement de modèles"
   ]
  },
  {
   "cell_type": "code",
   "execution_count": 136,
   "metadata": {},
   "outputs": [],
   "source": [
    "X = data.drop('SeriousDlqin2yrs', axis=1)\n",
    "y = data.SeriousDlqin2yrs"
   ]
  },
  {
   "cell_type": "code",
   "execution_count": 137,
   "metadata": {},
   "outputs": [
    {
     "name": "stderr",
     "output_type": "stream",
     "text": [
      "/Users/antoine/Documents/Ponts/2A/MALAP/RAPPEL/GiveMeSomeCredit/venv/lib/python3.7/site-packages/sklearn/ensemble/forest.py:245: FutureWarning: The default value of n_estimators will change from 10 in version 0.20 to 100 in 0.22.\n",
      "  \"10 in version 0.20 to 100 in 0.22.\", FutureWarning)\n"
     ]
    },
    {
     "data": {
      "image/png": "[encoded data removed]",
      "text/plain": [
       "<Figure size 432x288 with 1 Axes>"
      ]
     },
     "metadata": {
      "needs_background": "light"
     },
     "output_type": "display_data"
    },
    {
     "name": "stdout",
     "output_type": "stream",
     "text": [
      "Mean: 0.783140\n"
     ]
    }
   ],
   "source": [
    "eval_model(RandomForestClassifier(), X, y)"
   ]
  },
  {
   "cell_type": "code",
   "execution_count": 138,
   "metadata": {},
   "outputs": [
    {
     "name": "stderr",
     "output_type": "stream",
     "text": [
      "/Users/antoine/Documents/Ponts/2A/MALAP/RAPPEL/GiveMeSomeCredit/venv/lib/python3.7/site-packages/sklearn/linear_model/logistic.py:432: FutureWarning: Default solver will be changed to 'lbfgs' in 0.22. Specify a solver to silence this warning.\n",
      "  FutureWarning)\n",
      "/Users/antoine/Documents/Ponts/2A/MALAP/RAPPEL/GiveMeSomeCredit/venv/lib/python3.7/site-packages/sklearn/linear_model/logistic.py:432: FutureWarning: Default solver will be changed to 'lbfgs' in 0.22. Specify a solver to silence this warning.\n",
      "  FutureWarning)\n",
      "/Users/antoine/Documents/Ponts/2A/MALAP/RAPPEL/GiveMeSomeCredit/venv/lib/python3.7/site-packages/sklearn/linear_model/logistic.py:432: FutureWarning: Default solver will be changed to 'lbfgs' in 0.22. Specify a solver to silence this warning.\n",
      "  FutureWarning)\n",
      "/Users/antoine/Documents/Ponts/2A/MALAP/RAPPEL/GiveMeSomeCredit/venv/lib/python3.7/site-packages/sklearn/linear_model/logistic.py:432: FutureWarning: Default solver will be changed to 'lbfgs' in 0.22. Specify a solver to silence this warning.\n",
      "  FutureWarning)\n",
      "/Users/antoine/Documents/Ponts/2A/MALAP/RAPPEL/GiveMeSomeCredit/venv/lib/python3.7/site-packages/sklearn/linear_model/logistic.py:432: FutureWarning: Default solver will be changed to 'lbfgs' in 0.22. Specify a solver to silence this warning.\n",
      "  FutureWarning)\n",
      "/Users/antoine/Documents/Ponts/2A/MALAP/RAPPEL/GiveMeSomeCredit/venv/lib/python3.7/site-packages/sklearn/linear_model/logistic.py:432: FutureWarning: Default solver will be changed to 'lbfgs' in 0.22. Specify a solver to silence this warning.\n",
      "  FutureWarning)\n",
      "/Users/antoine/Documents/Ponts/2A/MALAP/RAPPEL/GiveMeSomeCredit/venv/lib/python3.7/site-packages/sklearn/linear_model/logistic.py:432: FutureWarning: Default solver will be changed to 'lbfgs' in 0.22. Specify a solver to silence this warning.\n",
      "  FutureWarning)\n"
     ]
    },
    {
     "data": {
      "image/png": "[encoded data removed]",
      "text/plain": [
       "<Figure size 432x288 with 1 Axes>"
      ]
     },
     "metadata": {
      "needs_background": "light"
     },
     "output_type": "display_data"
    },
    {
     "name": "stdout",
     "output_type": "stream",
     "text": [
      "Mean: 0.812969\n"
     ]
    }
   ],
   "source": [
    "eval_model(LogisticRegression(), X, y)"
   ]
  },
  {
   "cell_type": "code",
   "execution_count": 139,
   "metadata": {},
   "outputs": [
    {
     "data": {
      "image/png": "[encoded data removed]",
      "text/plain": [
       "<Figure size 432x288 with 1 Axes>"
      ]
     },
     "metadata": {
      "needs_background": "light"
     },
     "output_type": "display_data"
    },
    {
     "name": "stdout",
     "output_type": "stream",
     "text": [
      "Mean: 0.858762\n"
     ]
    }
   ],
   "source": [
    "eval_model(AdaBoostClassifier(), X, y)"
   ]
  },
  {
   "cell_type": "code",
   "execution_count": 140,
   "metadata": {},
   "outputs": [
    {
     "data": {
      "image/png": "[encoded data removed]",
      "text/plain": [
       "<Figure size 432x288 with 1 Axes>"
      ]
     },
     "metadata": {
      "needs_background": "light"
     },
     "output_type": "display_data"
    },
    {
     "name": "stdout",
     "output_type": "stream",
     "text": [
      "Mean: 0.863564\n"
     ]
    }
   ],
   "source": [
    "eval_model(GradientBoostingClassifier(), X, y)"
   ]
  },
  {
   "cell_type": "code",
   "execution_count": 143,
   "metadata": {},
   "outputs": [
    {
     "data": {
      "image/png": "[encoded data removed]",
      "text/plain": [
       "<Figure size 432x288 with 1 Axes>"
      ]
     },
     "metadata": {
      "needs_background": "light"
     },
     "output_type": "display_data"
    },
    {
     "name": "stdout",
     "output_type": "stream",
     "text": [
      "Mean: 0.788042\n"
     ]
    }
   ],
   "source": [
    "eval_model(MLPClassifier(), X, y)"
   ]
  },
  {
   "cell_type": "markdown",
   "metadata": {},
   "source": [
    "On remarque une amélioration des modèles, en particulier sur la régression logistique où la différence de qualité de prédiction est tout à fait étonnante. Les résultats donnés par MLP sont mauvais, probablement parce que ce modèle demande un choix d'hyper-paramètres soignés."
   ]
  },
  {
   "cell_type": "markdown",
   "metadata": {},
   "source": [
    "## Optimisation du GradientBoostingClassifier"
   ]
  },
  {
   "cell_type": "markdown",
   "metadata": {},
   "source": [
    "On utilise Grid Search pour déterminer les meilleurs hyper parametres. Nous allons essayer d'optimiser sur les paramètres suivants :\n",
    "- n_estimators\n",
    "- max_depth\n",
    "- min_samples_split"
   ]
  },
  {
   "cell_type": "markdown",
   "metadata": {},
   "source": [
    "### n_estimator"
   ]
  },
  {
   "cell_type": "code",
   "execution_count": 145,
   "metadata": {},
   "outputs": [],
   "source": [
    "from sklearn.model_selection import GridSearchCV"
   ]
  },
  {
   "cell_type": "code",
   "execution_count": 147,
   "metadata": {},
   "outputs": [
    {
     "name": "stderr",
     "output_type": "stream",
     "text": [
      "/Users/antoine/Documents/Ponts/2A/MALAP/RAPPEL/GiveMeSomeCredit/venv/lib/python3.7/site-packages/sklearn/model_selection/_split.py:1978: FutureWarning: The default value of cv will change from 3 to 5 in version 0.22. Specify it explicitly to silence this warning.\n",
      "  warnings.warn(CV_WARNING, FutureWarning)\n"
     ]
    },
    {
     "name": "stdout",
     "output_type": "stream",
     "text": [
      "{'n_estimators': 250} 0.8638231561975044\n"
     ]
    }
   ],
   "source": [
    "parameters = {'n_estimators': range(50,301,50)}\n",
    "# parameters = {'n_estimators': range(300,701,100)}\n",
    "# parameters = {'n_estimators': range(250,350,25)}\n",
    "# parameters = {'n_estimators': range(260,290,5)}\n",
    "\n",
    "gs = GridSearchCV(GradientBoostingClassifier(), parameters, scoring='roc_auc')\n",
    "gs.fit(X, y)\n",
    "print(gs.best_params_, gs.best_score_)"
   ]
  },
  {
   "cell_type": "markdown",
   "metadata": {},
   "source": [
    "### max_depth"
   ]
  },
  {
   "cell_type": "code",
   "execution_count": 148,
   "metadata": {},
   "outputs": [
    {
     "name": "stderr",
     "output_type": "stream",
     "text": [
      "/Users/antoine/Documents/Ponts/2A/MALAP/RAPPEL/GiveMeSomeCredit/venv/lib/python3.7/site-packages/sklearn/model_selection/_split.py:1978: FutureWarning: The default value of cv will change from 3 to 5 in version 0.22. Specify it explicitly to silence this warning.\n",
      "  warnings.warn(CV_WARNING, FutureWarning)\n"
     ]
    },
    {
     "name": "stdout",
     "output_type": "stream",
     "text": [
      "{'max_depth': 3} 0.8638176409388229\n"
     ]
    }
   ],
   "source": [
    "parameters = {'max_depth': range(2,5,1)}\n",
    "gs = GridSearchCV(GradientBoostingClassifier(\n",
    "    n_estimators=270,\n",
    "), parameters, scoring='roc_auc')\n",
    "gs.fit(X, y)\n",
    "print(gs.best_params_, gs.best_score_)"
   ]
  },
  {
   "cell_type": "markdown",
   "metadata": {},
   "source": [
    "### min_samples_split"
   ]
  },
  {
   "cell_type": "code",
   "execution_count": 150,
   "metadata": {},
   "outputs": [
    {
     "name": "stderr",
     "output_type": "stream",
     "text": [
      "/Users/antoine/Documents/Ponts/2A/MALAP/RAPPEL/GiveMeSomeCredit/venv/lib/python3.7/site-packages/sklearn/model_selection/_split.py:1978: FutureWarning: The default value of cv will change from 3 to 5 in version 0.22. Specify it explicitly to silence this warning.\n",
      "  warnings.warn(CV_WARNING, FutureWarning)\n"
     ]
    },
    {
     "name": "stdout",
     "output_type": "stream",
     "text": [
      "{'min_samples_split': 3} 0.8638787694580571\n"
     ]
    }
   ],
   "source": [
    "parameters = {'min_samples_split': range(2,4,1)}\n",
    "gs = GridSearchCV(GradientBoostingClassifier(\n",
    "    n_estimators=270,\n",
    "    max_depth=3,\n",
    "), parameters, scoring='roc_auc')\n",
    "gs.fit(X, y)\n",
    "print(gs.best_params_, gs.best_score_)"
   ]
  },
  {
   "cell_type": "markdown",
   "metadata": {},
   "source": [
    "### Evaluation"
   ]
  },
  {
   "cell_type": "code",
   "execution_count": 168,
   "metadata": {},
   "outputs": [
    {
     "data": {
      "image/png": "[encoded data removed]",
      "text/plain": [
       "<Figure size 432x288 with 1 Axes>"
      ]
     },
     "metadata": {
      "needs_background": "light"
     },
     "output_type": "display_data"
    },
    {
     "name": "stdout",
     "output_type": "stream",
     "text": [
      "Mean: 0.863520\n"
     ]
    }
   ],
   "source": [
    "clf = GradientBoostingClassifier(\n",
    "    n_estimators=270,\n",
    "    max_depth=3,\n",
    "    min_samples_split=0.8638787694580571,\n",
    ")\n",
    "eval_model(clf, X, y)"
   ]
  },
  {
   "cell_type": "markdown",
   "metadata": {},
   "source": [
    "## Utilisation d'un modèle pour nettoyer les données "
   ]
  },
  {
   "cell_type": "markdown",
   "metadata": {},
   "source": [
    "Pour le moment, le défaut majeur de notre travail repose sur notre choix de valeurs pour remplacer les données fausses/abérantes."
   ]
  },
  {
   "cell_type": "code",
   "execution_count": 169,
   "metadata": {},
   "outputs": [],
   "source": [
    "def plot_feature_importance(clf, X_train, y_train, feature_names=feature_names):\n",
    "    '''\n",
    "        Given a classifier clf and a fitting set (X, y), fit the clf \n",
    "        and plot the importance of each feature.\n",
    "        \n",
    "        clf: classifier with feature_importances_ attribute. \n",
    "    '''\n",
    "    clf.fit(X, y)\n",
    "    feature_importance = dict(zip(feature_names, clf.feature_importances_))\n",
    "    sorted_feature_importance = np.array(sorted(feature_importance.items(), key=lambda x: x[1]))\n",
    "\n",
    "    plt.barh(sorted_feature_importance[:, 0], sorted_feature_importance[:, 1].astype(float))\n",
    "    plt.xlabel('Feature importance')\n",
    "    plt.show()"
   ]
  },
  {
   "cell_type": "code",
   "execution_count": 171,
   "metadata": {},
   "outputs": [
    {
     "data": {
      "image/png": "[encoded data removed]",
      "text/plain": [
       "<Figure size 432x288 with 1 Axes>"
      ]
     },
     "metadata": {
      "needs_background": "light"
     },
     "output_type": "display_data"
    }
   ],
   "source": [
    "X_train, y_train, _, _ = train_test_split(X, y, test_size=0.9, random_state=random_state)\n",
    "plot_feature_importance(clf, X_train, y_train)"
   ]
  },
  {
   "cell_type": "markdown",
   "metadata": {},
   "source": [
    "Nous proposons désormais un modèle de prédiction de la feature `NumberOfTimes90DaysLate` grâce aux autres features lorsque celle-ci semble erronée."
   ]
  },
  {
   "cell_type": "code",
   "execution_count": null,
   "metadata": {},
   "outputs": [],
   "source": []
  }
 ],
 "metadata": {
  "kernelspec": {
   "display_name": "Python 3",
   "language": "python",
   "name": "python3"
  },
  "language_info": {
   "codemirror_mode": {
    "name": "ipython",
    "version": 3
   },
   "file_extension": ".py",
   "mimetype": "text/x-python",
   "name": "python",
   "nbconvert_exporter": "python",
   "pygments_lexer": "ipython3",
   "version": "3.7.3"
  }
 },
 "nbformat": 4,
 "nbformat_minor": 2
}
